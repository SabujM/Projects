{
 "cells": [
  {
   "cell_type": "markdown",
   "metadata": {},
   "source": [
    "# <font color=green> Image Scrapping </font>"
   ]
  },
  {
   "cell_type": "code",
   "execution_count": 2,
   "metadata": {},
   "outputs": [
    {
     "name": "stdout",
     "output_type": "stream",
     "text": [
      "Requirement already satisfied: beautifulsoup4 in c:\\programdata\\anaconda3\\lib\\site-packages (4.9.3)\n",
      "Requirement already satisfied: as in c:\\programdata\\anaconda3\\lib\\site-packages (0.1)\n",
      "Requirement already satisfied: bs4 in c:\\programdata\\anaconda3\\lib\\site-packages (0.0.1)\n",
      "Requirement already satisfied: soupsieve>1.2; python_version >= \"3.0\" in c:\\programdata\\anaconda3\\lib\\site-packages (from beautifulsoup4) (2.0.1)\n",
      "Note: you may need to restart the kernel to use updated packages.\n"
     ]
    }
   ],
   "source": [
    "pip install beautifulsoup4 as bs4"
   ]
  },
  {
   "cell_type": "code",
   "execution_count": 3,
   "metadata": {},
   "outputs": [],
   "source": [
    "import pandas as pd\n",
    "from bs4 import *\n",
    "from bs4 import BeautifulSoup\n",
    "import requests\n",
    "import time\n",
    "import os"
   ]
  },
  {
   "cell_type": "code",
   "execution_count": 4,
   "metadata": {},
   "outputs": [],
   "source": [
    "links=[]\n",
    "for i in range(2,22):\n",
    "    url=\"https://www.amazon.in/s?k=sarees&i=apparel&rh=n%3A1968256031%2Cp_36%3A4595088031&dc&page=\"+str(i)+\"&qid=1623605359&rnid=4595083031&ref=sr_pg_\"+str(i)\n",
    "    r=requests.get(url)\n",
    "    soup=BeautifulSoup(r.content, \"html.parser\")\n",
    "    divs1=soup.find_all(\"img\", class_=\"s-image\")\n",
    "    for i in divs1:\n",
    "        linkset=i.get(\"srcset\").split(\", \")[-1][:-3]\n",
    "        links.append(linkset)"
   ]
  },
  {
   "cell_type": "code",
   "execution_count": 5,
   "metadata": {},
   "outputs": [
    {
     "data": {
      "text/plain": [
       "336"
      ]
     },
     "execution_count": 5,
     "metadata": {},
     "output_type": "execute_result"
    }
   ],
   "source": [
    "len(links)"
   ]
  },
  {
   "cell_type": "code",
   "execution_count": 6,
   "metadata": {},
   "outputs": [],
   "source": [
    "for i in range(2,25):\n",
    "    url=\"https://www.amazon.in/s?i=apparel&rh=n%3A1968093031&fs=true&page=\"+str(i)+\"&qid=1623606562&ref=sr_pg_\"+str(i)\n",
    "    r=requests.get(url)\n",
    "    soup=BeautifulSoup(r.content, \"html.parser\")\n",
    "    divs1=soup.find_all(\"img\", class_=\"s-image\")\n",
    "    for i in divs1:\n",
    "        linkset=i.get(\"srcset\").split(\", \")[-1][:-3]\n",
    "        links.append(linkset)"
   ]
  },
  {
   "cell_type": "code",
   "execution_count": 7,
   "metadata": {},
   "outputs": [
    {
     "data": {
      "text/plain": [
       "576"
      ]
     },
     "execution_count": 7,
     "metadata": {},
     "output_type": "execute_result"
    }
   ],
   "source": [
    "len(links)"
   ]
  },
  {
   "cell_type": "code",
   "execution_count": 8,
   "metadata": {},
   "outputs": [],
   "source": [
    "for i in range(2,25):\n",
    "    url=\"https://www.amazon.in/s?i=apparel&bbn=1968024031&rh=n%3A1571271031%2Cn%3A1968024031%2Cn%3A1968076031&s=apparels&page=\"+str(i)+\"&pf_rd_i=1968024031&pf_rd_i=1968024031&pf_rd_i=1968024031&pf_rd_i=1968076031&pf_rd_m=A1K21FY43GMZF8&pf_rd_m=A1VBAL9TL5WCBF&pf_rd_m=A1VBAL9TL5WCBF&pf_rd_m=A1VBAL9TL5WCBF&pf_rd_p=c1c36228-9a68-4649-bec9-77bcf8bac365&pf_rd_p=c6891157-2992-4c06-adfd-4c88d0d5c46b&pf_rd_p=f420416c-a783-4028-abcb-0e3e0e76e073&pf_rd_p=f5fedb67-35fc-48ca-973a-fc60d3076c3f&pf_rd_r=AXAQVNXWHXDRPKC9MGDQ&pf_rd_r=D0J3ZV3ZRJXV5N1GR308&pf_rd_r=EG8FY8YJ835G8YVWW94Z&pf_rd_r=YEYRTM5YK7NASFFZ9PMA&pf_rd_s=merchandised-search-10&pf_rd_s=merchandised-search-8&pf_rd_s=merchandised-search-8&pf_rd_s=merchandised-search-9&pf_rd_t=101&qid=1623606975&rnid=1968024031&ref=sr_pg_\"+str(i)\n",
    "    r=requests.get(url)\n",
    "    soup=BeautifulSoup(r.content, \"html.parser\")\n",
    "    divs1=soup.find_all(\"img\", class_=\"s-image\")\n",
    "    for i in divs1:\n",
    "        linkset=i.get(\"srcset\").split(\", \")[-1][:-3]\n",
    "        links.append(linkset)"
   ]
  },
  {
   "cell_type": "code",
   "execution_count": 9,
   "metadata": {},
   "outputs": [
    {
     "data": {
      "text/plain": [
       "912"
      ]
     },
     "execution_count": 9,
     "metadata": {},
     "output_type": "execute_result"
    }
   ],
   "source": [
    "len(links)"
   ]
  },
  {
   "cell_type": "code",
   "execution_count": 14,
   "metadata": {},
   "outputs": [],
   "source": [
    "os.mkdir(\"Images2\")"
   ]
  },
  {
   "cell_type": "code",
   "execution_count": 16,
   "metadata": {},
   "outputs": [],
   "source": [
    "for index, img_link in enumerate (links):\n",
    "    img_data=requests.get(img_link).content\n",
    "    with open (\"Images2/\"+str(index+1)+'.jpg', \"wb+\") as f:\n",
    "        f.write(img_data)"
   ]
  },
  {
   "cell_type": "code",
   "execution_count": null,
   "metadata": {},
   "outputs": [],
   "source": []
  }
 ],
 "metadata": {
  "kernelspec": {
   "display_name": "Python 3",
   "language": "python",
   "name": "python3"
  },
  "language_info": {
   "codemirror_mode": {
    "name": "ipython",
    "version": 3
   },
   "file_extension": ".py",
   "mimetype": "text/x-python",
   "name": "python",
   "nbconvert_exporter": "python",
   "pygments_lexer": "ipython3",
   "version": "3.8.5"
  }
 },
 "nbformat": 4,
 "nbformat_minor": 4
}
