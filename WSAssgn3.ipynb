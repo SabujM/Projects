{
 "cells": [
  {
   "cell_type": "code",
   "execution_count": 1,
   "metadata": {},
   "outputs": [
    {
     "name": "stdout",
     "output_type": "stream",
     "text": [
      "Defaulting to user installation because normal site-packages is not writeable\n",
      "Requirement already satisfied: bs4 in ./.local/lib/python3.7/site-packages (0.0.1)\n",
      "Requirement already satisfied: beautifulsoup4 in /usr/local/lib/python3.7/site-packages (from bs4) (4.8.2)\n",
      "Requirement already satisfied: soupsieve>=1.2 in /usr/local/lib/python3.7/site-packages (from beautifulsoup4->bs4) (2.0)\n",
      "\u001b[33mWARNING: You are using pip version 20.3.3; however, version 21.0.1 is available.\n",
      "You should consider upgrading via the '/usr/local/bin/python3.7 -m pip install --upgrade pip' command.\u001b[0m\n"
     ]
    }
   ],
   "source": [
    "!pip install bs4"
   ]
  },
  {
   "cell_type": "code",
   "execution_count": 2,
   "metadata": {},
   "outputs": [
    {
     "name": "stdout",
     "output_type": "stream",
     "text": [
      "Defaulting to user installation because normal site-packages is not writeable\n",
      "Requirement already satisfied: requests in /usr/local/lib/python3.7/site-packages (2.23.0)\n",
      "Requirement already satisfied: certifi>=2017.4.17 in /usr/local/lib/python3.7/site-packages (from requests) (2019.11.28)\n",
      "Requirement already satisfied: urllib3!=1.25.0,!=1.25.1,<1.26,>=1.21.1 in /usr/local/lib/python3.7/site-packages (from requests) (1.25.8)\n",
      "Requirement already satisfied: idna<3,>=2.5 in /usr/local/lib/python3.7/site-packages (from requests) (2.9)\n",
      "Requirement already satisfied: chardet<4,>=3.0.2 in /usr/local/lib/python3.7/site-packages (from requests) (3.0.4)\n",
      "\u001b[33mWARNING: You are using pip version 20.3.3; however, version 21.0.1 is available.\n",
      "You should consider upgrading via the '/usr/local/bin/python3.7 -m pip install --upgrade pip' command.\u001b[0m\n",
      "Defaulting to user installation because normal site-packages is not writeable\n",
      "Requirement already satisfied: html5lib in /usr/local/lib/python3.7/site-packages (1.0.1)\n",
      "Requirement already satisfied: webencodings in /usr/local/lib/python3.7/site-packages (from html5lib) (0.5.1)\n",
      "Requirement already satisfied: six>=1.9 in /usr/local/lib/python3.7/site-packages (from html5lib) (1.14.0)\n",
      "\u001b[33mWARNING: You are using pip version 20.3.3; however, version 21.0.1 is available.\n",
      "You should consider upgrading via the '/usr/local/bin/python3.7 -m pip install --upgrade pip' command.\u001b[0m\n"
     ]
    }
   ],
   "source": [
    "!pip install requests\n",
    "!pip install html5lib"
   ]
  },
  {
   "cell_type": "code",
   "execution_count": 3,
   "metadata": {},
   "outputs": [],
   "source": [
    "from bs4 import BeautifulSoup\n",
    "import requests"
   ]
  },
  {
   "cell_type": "markdown",
   "metadata": {},
   "source": [
    "1. Write a python program which searches all the product under a particular product vertical from www.amazon.in. The product verticals to be searched will be taken as input from user.\n",
    "\n",
    "2. In the above question, now scrape the following details of each product listed in first 3 pages of your search results and save it in a dataframe and csv. In case if any product vertical has less than 3 pages in search results then scrape all the products available under that product vertical. Details to be scraped are: \"Brand Name\", \"Name of the Product\", \"Rating\", \"No. of Ratings\", \"Price\", \"Return/Exchange\", \"Expected Delivery\", \"Availability\", \"Other Details\" and “Product URL”. In case, if any of the details are missing for any of the product then replace it by “-“."
   ]
  },
  {
   "cell_type": "code",
   "execution_count": 4,
   "metadata": {},
   "outputs": [],
   "source": [
    "page=requests.get(\"https://www.amazon.in/s?k=laptop&qid=1612176452&ref=sr_pg_1\")"
   ]
  },
  {
   "cell_type": "code",
   "execution_count": 5,
   "metadata": {},
   "outputs": [],
   "source": [
    "htmlcontent=page.content"
   ]
  },
  {
   "cell_type": "code",
   "execution_count": 6,
   "metadata": {},
   "outputs": [],
   "source": [
    "soup=BeautifulSoup(htmlcontent,\"html.parser\")"
   ]
  },
  {
   "cell_type": "code",
   "execution_count": 7,
   "metadata": {},
   "outputs": [
    {
     "name": "stdout",
     "output_type": "stream",
     "text": [
      "<title>Amazon.in: laptop</title>\n"
     ]
    }
   ],
   "source": [
    "print(soup.title)"
   ]
  },
  {
   "cell_type": "code",
   "execution_count": 8,
   "metadata": {},
   "outputs": [],
   "source": [
    "brands=[]\n",
    "products=[]\n",
    "title=soup.find_all(\"span\", class_=\"a-size-medium a-color-base a-text-normal\")\n",
    "for i in title:\n",
    "    titles=i.text\n",
    "    brands.append(titles[0])\n",
    "    products.append(i.text)"
   ]
  },
  {
   "cell_type": "code",
   "execution_count": 9,
   "metadata": {},
   "outputs": [
    {
     "data": {
      "text/plain": [
       "(16, 16)"
      ]
     },
     "execution_count": 9,
     "metadata": {},
     "output_type": "execute_result"
    }
   ],
   "source": [
    "len(brands), len(products)"
   ]
  },
  {
   "cell_type": "code",
   "execution_count": 10,
   "metadata": {},
   "outputs": [],
   "source": [
    "stars=[]\n",
    "reviews=[]\n",
    "ratings=soup.find_all(\"div\", class_=\"a-row a-size-small\")\n",
    "for i in ratings:\n",
    "    rating=i.text.split()\n",
    "    stars.append(rating[0])\n",
    "    reviews.append(rating[-1])"
   ]
  },
  {
   "cell_type": "code",
   "execution_count": 11,
   "metadata": {},
   "outputs": [
    {
     "data": {
      "text/plain": [
       "(20, 20)"
      ]
     },
     "execution_count": 11,
     "metadata": {},
     "output_type": "execute_result"
    }
   ],
   "source": [
    "len(stars),len(reviews)"
   ]
  },
  {
   "cell_type": "code",
   "execution_count": 12,
   "metadata": {},
   "outputs": [],
   "source": [
    "price=[]\n",
    "costs=soup.find_all(\"span\", class_=\"a-price-whole\")\n",
    "for i in costs:\n",
    "    price.append(i.text)"
   ]
  },
  {
   "cell_type": "code",
   "execution_count": 13,
   "metadata": {},
   "outputs": [
    {
     "data": {
      "text/plain": [
       "20"
      ]
     },
     "execution_count": 13,
     "metadata": {},
     "output_type": "execute_result"
    }
   ],
   "source": [
    "len(price)"
   ]
  },
  {
   "cell_type": "code",
   "execution_count": 14,
   "metadata": {},
   "outputs": [],
   "source": [
    "ed=[]\n",
    "days=soup.find_all(\"div\", class_=\"a-row s-align-children-center\")\n",
    "for i in days:\n",
    "    date=i.text.split()[-2:]\n",
    "    ed.append(\" \".join(date))"
   ]
  },
  {
   "cell_type": "code",
   "execution_count": 15,
   "metadata": {},
   "outputs": [
    {
     "data": {
      "text/plain": [
       "16"
      ]
     },
     "execution_count": 15,
     "metadata": {},
     "output_type": "execute_result"
    }
   ],
   "source": [
    "len(ed)"
   ]
  },
  {
   "cell_type": "code",
   "execution_count": 71,
   "metadata": {},
   "outputs": [],
   "source": [
    "url=[]"
   ]
  },
  {
   "cell_type": "code",
   "execution_count": 7,
   "metadata": {},
   "outputs": [
    {
     "name": "stdout",
     "output_type": "stream",
     "text": [
      "Defaulting to user installation because normal site-packages is not writeable\n",
      "Requirement already satisfied: selenium in /usr/local/lib/python3.7/site-packages (3.141.0)\n",
      "Requirement already satisfied: urllib3 in /usr/local/lib/python3.7/site-packages (from selenium) (1.25.8)\n",
      "\u001b[33mWARNING: You are using pip version 20.3.3; however, version 21.0.1 is available.\n",
      "You should consider upgrading via the '/usr/local/bin/python3.7 -m pip install --upgrade pip' command.\u001b[0m\n"
     ]
    }
   ],
   "source": [
    "!pip install selenium"
   ]
  },
  {
   "cell_type": "code",
   "execution_count": 8,
   "metadata": {},
   "outputs": [],
   "source": [
    "from selenium import webdriver"
   ]
  },
  {
   "cell_type": "code",
   "execution_count": 10,
   "metadata": {},
   "outputs": [
    {
     "ename": "WebDriverException",
     "evalue": "Message: 'chromedriver.exe' executable needs to be in PATH. Please see https://sites.google.com/a/chromium.org/chromedriver/home\n",
     "output_type": "error",
     "traceback": [
      "\u001b[0;31m---------------------------------------------------------------------------\u001b[0m",
      "\u001b[0;31mFileNotFoundError\u001b[0m                         Traceback (most recent call last)",
      "\u001b[0;32m/usr/local/lib/python3.7/site-packages/selenium/webdriver/common/service.py\u001b[0m in \u001b[0;36mstart\u001b[0;34m(self)\u001b[0m\n\u001b[1;32m     75\u001b[0m                                             \u001b[0mstderr\u001b[0m\u001b[0;34m=\u001b[0m\u001b[0mself\u001b[0m\u001b[0;34m.\u001b[0m\u001b[0mlog_file\u001b[0m\u001b[0;34m,\u001b[0m\u001b[0;34m\u001b[0m\u001b[0;34m\u001b[0m\u001b[0m\n\u001b[0;32m---> 76\u001b[0;31m                                             stdin=PIPE)\n\u001b[0m\u001b[1;32m     77\u001b[0m         \u001b[0;32mexcept\u001b[0m \u001b[0mTypeError\u001b[0m\u001b[0;34m:\u001b[0m\u001b[0;34m\u001b[0m\u001b[0;34m\u001b[0m\u001b[0m\n",
      "\u001b[0;32m/usr/local/lib/python3.7/subprocess.py\u001b[0m in \u001b[0;36m__init__\u001b[0;34m(self, args, bufsize, executable, stdin, stdout, stderr, preexec_fn, close_fds, shell, cwd, env, universal_newlines, startupinfo, creationflags, restore_signals, start_new_session, pass_fds, encoding, errors, text)\u001b[0m\n\u001b[1;32m    799\u001b[0m                                 \u001b[0merrread\u001b[0m\u001b[0;34m,\u001b[0m \u001b[0merrwrite\u001b[0m\u001b[0;34m,\u001b[0m\u001b[0;34m\u001b[0m\u001b[0;34m\u001b[0m\u001b[0m\n\u001b[0;32m--> 800\u001b[0;31m                                 restore_signals, start_new_session)\n\u001b[0m\u001b[1;32m    801\u001b[0m         \u001b[0;32mexcept\u001b[0m\u001b[0;34m:\u001b[0m\u001b[0;34m\u001b[0m\u001b[0;34m\u001b[0m\u001b[0m\n",
      "\u001b[0;32m/usr/local/lib/python3.7/subprocess.py\u001b[0m in \u001b[0;36m_execute_child\u001b[0;34m(self, args, executable, preexec_fn, close_fds, pass_fds, cwd, env, startupinfo, creationflags, shell, p2cread, p2cwrite, c2pread, c2pwrite, errread, errwrite, restore_signals, start_new_session)\u001b[0m\n\u001b[1;32m   1550\u001b[0m                             \u001b[0merr_msg\u001b[0m \u001b[0;34m+=\u001b[0m \u001b[0;34m': '\u001b[0m \u001b[0;34m+\u001b[0m \u001b[0mrepr\u001b[0m\u001b[0;34m(\u001b[0m\u001b[0merr_filename\u001b[0m\u001b[0;34m)\u001b[0m\u001b[0;34m\u001b[0m\u001b[0;34m\u001b[0m\u001b[0m\n\u001b[0;32m-> 1551\u001b[0;31m                     \u001b[0;32mraise\u001b[0m \u001b[0mchild_exception_type\u001b[0m\u001b[0;34m(\u001b[0m\u001b[0merrno_num\u001b[0m\u001b[0;34m,\u001b[0m \u001b[0merr_msg\u001b[0m\u001b[0;34m,\u001b[0m \u001b[0merr_filename\u001b[0m\u001b[0;34m)\u001b[0m\u001b[0;34m\u001b[0m\u001b[0;34m\u001b[0m\u001b[0m\n\u001b[0m\u001b[1;32m   1552\u001b[0m                 \u001b[0;32mraise\u001b[0m \u001b[0mchild_exception_type\u001b[0m\u001b[0;34m(\u001b[0m\u001b[0merr_msg\u001b[0m\u001b[0;34m)\u001b[0m\u001b[0;34m\u001b[0m\u001b[0;34m\u001b[0m\u001b[0m\n",
      "\u001b[0;31mFileNotFoundError\u001b[0m: [Errno 2] No such file or directory: 'C:/Users/Administrator/Downloads/chromedriver.exe': 'C:/Users/Administrator/Downloads/chromedriver.exe'",
      "\nDuring handling of the above exception, another exception occurred:\n",
      "\u001b[0;31mWebDriverException\u001b[0m                        Traceback (most recent call last)",
      "\u001b[0;32m<ipython-input-10-6c9493c92919>\u001b[0m in \u001b[0;36m<module>\u001b[0;34m\u001b[0m\n\u001b[0;32m----> 1\u001b[0;31m \u001b[0mdriver\u001b[0m\u001b[0;34m=\u001b[0m\u001b[0mwebdriver\u001b[0m\u001b[0;34m.\u001b[0m\u001b[0mChrome\u001b[0m\u001b[0;34m(\u001b[0m\u001b[0mexecutable_path\u001b[0m\u001b[0;34m=\u001b[0m\u001b[0;34mr\"C:/Users/Administrator/Downloads/chromedriver.exe\"\u001b[0m\u001b[0;34m)\u001b[0m\u001b[0;34m\u001b[0m\u001b[0;34m\u001b[0m\u001b[0m\n\u001b[0m",
      "\u001b[0;32m/usr/local/lib/python3.7/site-packages/selenium/webdriver/chrome/webdriver.py\u001b[0m in \u001b[0;36m__init__\u001b[0;34m(self, executable_path, port, options, service_args, desired_capabilities, service_log_path, chrome_options, keep_alive)\u001b[0m\n\u001b[1;32m     71\u001b[0m             \u001b[0mservice_args\u001b[0m\u001b[0;34m=\u001b[0m\u001b[0mservice_args\u001b[0m\u001b[0;34m,\u001b[0m\u001b[0;34m\u001b[0m\u001b[0;34m\u001b[0m\u001b[0m\n\u001b[1;32m     72\u001b[0m             log_path=service_log_path)\n\u001b[0;32m---> 73\u001b[0;31m         \u001b[0mself\u001b[0m\u001b[0;34m.\u001b[0m\u001b[0mservice\u001b[0m\u001b[0;34m.\u001b[0m\u001b[0mstart\u001b[0m\u001b[0;34m(\u001b[0m\u001b[0;34m)\u001b[0m\u001b[0;34m\u001b[0m\u001b[0;34m\u001b[0m\u001b[0m\n\u001b[0m\u001b[1;32m     74\u001b[0m \u001b[0;34m\u001b[0m\u001b[0m\n\u001b[1;32m     75\u001b[0m         \u001b[0;32mtry\u001b[0m\u001b[0;34m:\u001b[0m\u001b[0;34m\u001b[0m\u001b[0;34m\u001b[0m\u001b[0m\n",
      "\u001b[0;32m/usr/local/lib/python3.7/site-packages/selenium/webdriver/common/service.py\u001b[0m in \u001b[0;36mstart\u001b[0;34m(self)\u001b[0m\n\u001b[1;32m     81\u001b[0m                 raise WebDriverException(\n\u001b[1;32m     82\u001b[0m                     \"'%s' executable needs to be in PATH. %s\" % (\n\u001b[0;32m---> 83\u001b[0;31m                         os.path.basename(self.path), self.start_error_message)\n\u001b[0m\u001b[1;32m     84\u001b[0m                 )\n\u001b[1;32m     85\u001b[0m             \u001b[0;32melif\u001b[0m \u001b[0merr\u001b[0m\u001b[0;34m.\u001b[0m\u001b[0merrno\u001b[0m \u001b[0;34m==\u001b[0m \u001b[0merrno\u001b[0m\u001b[0;34m.\u001b[0m\u001b[0mEACCES\u001b[0m\u001b[0;34m:\u001b[0m\u001b[0;34m\u001b[0m\u001b[0;34m\u001b[0m\u001b[0m\n",
      "\u001b[0;31mWebDriverException\u001b[0m: Message: 'chromedriver.exe' executable needs to be in PATH. Please see https://sites.google.com/a/chromium.org/chromedriver/home\n"
     ]
    }
   ],
   "source": [
    "driver=webdriver.Chrome(executable_path=r\"\")"
   ]
  },
  {
   "cell_type": "code",
   "execution_count": 131,
   "metadata": {
    "collapsed": true,
    "jupyter": {
     "outputs_hidden": true
    }
   },
   "outputs": [
    {
     "name": "stdout",
     "output_type": "stream",
     "text": [
      "Defaulting to user installation because normal site-packages is not writeable\n",
      "Collecting webdriver-manager\n",
      "  Downloading webdriver_manager-3.3.0-py2.py3-none-any.whl (16 kB)\n",
      "Requirement already satisfied: configparser in /usr/local/lib/python3.7/site-packages (from webdriver-manager) (5.0.0)\n",
      "Requirement already satisfied: requests in /usr/local/lib/python3.7/site-packages (from webdriver-manager) (2.23.0)\n",
      "Collecting crayons\n",
      "  Downloading crayons-0.4.0-py2.py3-none-any.whl (4.6 kB)\n",
      "Requirement already satisfied: colorama in /usr/local/lib/python3.7/site-packages (from crayons->webdriver-manager) (0.4.3)\n",
      "Requirement already satisfied: certifi>=2017.4.17 in /usr/local/lib/python3.7/site-packages (from requests->webdriver-manager) (2019.11.28)\n",
      "Requirement already satisfied: idna<3,>=2.5 in /usr/local/lib/python3.7/site-packages (from requests->webdriver-manager) (2.9)\n",
      "Requirement already satisfied: chardet<4,>=3.0.2 in /usr/local/lib/python3.7/site-packages (from requests->webdriver-manager) (3.0.4)\n",
      "Requirement already satisfied: urllib3!=1.25.0,!=1.25.1,<1.26,>=1.21.1 in /usr/local/lib/python3.7/site-packages (from requests->webdriver-manager) (1.25.8)\n",
      "Installing collected packages: crayons, webdriver-manager\n",
      "Successfully installed crayons-0.4.0 webdriver-manager-3.3.0\n",
      "\u001b[33mWARNING: You are using pip version 20.3.3; however, version 21.0.1 is available.\n",
      "You should consider upgrading via the '/usr/local/bin/python3.7 -m pip install --upgrade pip' command.\u001b[0m\n",
      "Note: you may need to restart the kernel to use updated packages.\n"
     ]
    }
   ],
   "source": [
    "pip install webdriver-manager"
   ]
  },
  {
   "cell_type": "code",
   "execution_count": 133,
   "metadata": {},
   "outputs": [
    {
     "ename": "SyntaxError",
     "evalue": "invalid syntax (<ipython-input-133-fd8a18c619fe>, line 1)",
     "output_type": "error",
     "traceback": [
      "\u001b[0;36m  File \u001b[0;32m\"<ipython-input-133-fd8a18c619fe>\"\u001b[0;36m, line \u001b[0;32m1\u001b[0m\n\u001b[0;31m    sudo ln -s /Downloads/chromedriver /usr/bin/google-chrome\u001b[0m\n\u001b[0m          ^\u001b[0m\n\u001b[0;31mSyntaxError\u001b[0m\u001b[0;31m:\u001b[0m invalid syntax\n"
     ]
    }
   ],
   "source": [
    "sudo ln -s /Downloads/chromedriver /usr/bin/google-chrome"
   ]
  },
  {
   "cell_type": "code",
   "execution_count": 132,
   "metadata": {
    "collapsed": true,
    "jupyter": {
     "outputs_hidden": true
    }
   },
   "outputs": [
    {
     "name": "stderr",
     "output_type": "stream",
     "text": [
      "[WDM] - ====== WebDriver manager ======\n"
     ]
    },
    {
     "name": "stdout",
     "output_type": "stream",
     "text": [
      "\n",
      "\n"
     ]
    },
    {
     "ename": "ValueError",
     "evalue": "Could not get version for Chrome with this command: google-chrome --version || google-chrome-stable --version",
     "output_type": "error",
     "traceback": [
      "\u001b[0;31m---------------------------------------------------------------------------\u001b[0m",
      "\u001b[0;31mValueError\u001b[0m                                Traceback (most recent call last)",
      "\u001b[0;32m<ipython-input-132-26ef736775e8>\u001b[0m in \u001b[0;36m<module>\u001b[0;34m\u001b[0m\n\u001b[1;32m      3\u001b[0m \u001b[0;32mfrom\u001b[0m \u001b[0mwebdriver_manager\u001b[0m\u001b[0;34m.\u001b[0m\u001b[0mchrome\u001b[0m \u001b[0;32mimport\u001b[0m \u001b[0mChromeDriverManager\u001b[0m\u001b[0;34m\u001b[0m\u001b[0;34m\u001b[0m\u001b[0m\n\u001b[1;32m      4\u001b[0m \u001b[0;34m\u001b[0m\u001b[0m\n\u001b[0;32m----> 5\u001b[0;31m \u001b[0mdriver\u001b[0m \u001b[0;34m=\u001b[0m \u001b[0mwebdriver\u001b[0m\u001b[0;34m.\u001b[0m\u001b[0mChrome\u001b[0m\u001b[0;34m(\u001b[0m\u001b[0mChromeDriverManager\u001b[0m\u001b[0;34m(\u001b[0m\u001b[0;34m)\u001b[0m\u001b[0;34m.\u001b[0m\u001b[0minstall\u001b[0m\u001b[0;34m(\u001b[0m\u001b[0;34m)\u001b[0m\u001b[0;34m)\u001b[0m\u001b[0;34m\u001b[0m\u001b[0;34m\u001b[0m\u001b[0m\n\u001b[0m",
      "\u001b[0;32m~/.local/lib/python3.7/site-packages/webdriver_manager/chrome.py\u001b[0m in \u001b[0;36m__init__\u001b[0;34m(self, version, os_type, path, name, url, latest_release_url, chrome_type, log_level, print_first_line, cache_valid_range)\u001b[0m\n\u001b[1;32m     28\u001b[0m                                    \u001b[0murl\u001b[0m\u001b[0;34m=\u001b[0m\u001b[0murl\u001b[0m\u001b[0;34m,\u001b[0m\u001b[0;34m\u001b[0m\u001b[0;34m\u001b[0m\u001b[0m\n\u001b[1;32m     29\u001b[0m                                    \u001b[0mlatest_release_url\u001b[0m\u001b[0;34m=\u001b[0m\u001b[0mlatest_release_url\u001b[0m\u001b[0;34m,\u001b[0m\u001b[0;34m\u001b[0m\u001b[0;34m\u001b[0m\u001b[0m\n\u001b[0;32m---> 30\u001b[0;31m                                    chrome_type=chrome_type)\n\u001b[0m\u001b[1;32m     31\u001b[0m \u001b[0;34m\u001b[0m\u001b[0m\n\u001b[1;32m     32\u001b[0m     \u001b[0;32mdef\u001b[0m \u001b[0minstall\u001b[0m\u001b[0;34m(\u001b[0m\u001b[0mself\u001b[0m\u001b[0;34m)\u001b[0m\u001b[0;34m:\u001b[0m\u001b[0;34m\u001b[0m\u001b[0;34m\u001b[0m\u001b[0m\n",
      "\u001b[0;32m~/.local/lib/python3.7/site-packages/webdriver_manager/driver.py\u001b[0m in \u001b[0;36m__init__\u001b[0;34m(self, name, version, os_type, url, latest_release_url, chrome_type)\u001b[0m\n\u001b[1;32m     52\u001b[0m                                            latest_release_url)\n\u001b[1;32m     53\u001b[0m         \u001b[0mself\u001b[0m\u001b[0;34m.\u001b[0m\u001b[0mchrome_type\u001b[0m \u001b[0;34m=\u001b[0m \u001b[0mchrome_type\u001b[0m\u001b[0;34m\u001b[0m\u001b[0;34m\u001b[0m\u001b[0m\n\u001b[0;32m---> 54\u001b[0;31m         \u001b[0mself\u001b[0m\u001b[0;34m.\u001b[0m\u001b[0mbrowser_version\u001b[0m \u001b[0;34m=\u001b[0m \u001b[0mchrome_version\u001b[0m\u001b[0;34m(\u001b[0m\u001b[0mchrome_type\u001b[0m\u001b[0;34m)\u001b[0m\u001b[0;34m\u001b[0m\u001b[0;34m\u001b[0m\u001b[0m\n\u001b[0m\u001b[1;32m     55\u001b[0m \u001b[0;34m\u001b[0m\u001b[0m\n\u001b[1;32m     56\u001b[0m     \u001b[0;32mdef\u001b[0m \u001b[0mget_os_type\u001b[0m\u001b[0;34m(\u001b[0m\u001b[0mself\u001b[0m\u001b[0;34m)\u001b[0m\u001b[0;34m:\u001b[0m\u001b[0;34m\u001b[0m\u001b[0;34m\u001b[0m\u001b[0m\n",
      "\u001b[0;32m~/.local/lib/python3.7/site-packages/webdriver_manager/utils.py\u001b[0m in \u001b[0;36mchrome_version\u001b[0;34m(browser_type)\u001b[0m\n\u001b[1;32m    140\u001b[0m     \u001b[0mversion\u001b[0m \u001b[0;34m=\u001b[0m \u001b[0mre\u001b[0m\u001b[0;34m.\u001b[0m\u001b[0msearch\u001b[0m\u001b[0;34m(\u001b[0m\u001b[0mpattern\u001b[0m\u001b[0;34m,\u001b[0m \u001b[0mstdout\u001b[0m\u001b[0;34m)\u001b[0m\u001b[0;34m\u001b[0m\u001b[0;34m\u001b[0m\u001b[0m\n\u001b[1;32m    141\u001b[0m     \u001b[0;32mif\u001b[0m \u001b[0;32mnot\u001b[0m \u001b[0mversion\u001b[0m\u001b[0;34m:\u001b[0m\u001b[0;34m\u001b[0m\u001b[0;34m\u001b[0m\u001b[0m\n\u001b[0;32m--> 142\u001b[0;31m         \u001b[0;32mraise\u001b[0m \u001b[0mValueError\u001b[0m\u001b[0;34m(\u001b[0m\u001b[0;34mf'Could not get version for Chrome with this command: {cmd}'\u001b[0m\u001b[0;34m)\u001b[0m\u001b[0;34m\u001b[0m\u001b[0;34m\u001b[0m\u001b[0m\n\u001b[0m\u001b[1;32m    143\u001b[0m     \u001b[0mcurrent_version\u001b[0m \u001b[0;34m=\u001b[0m \u001b[0mversion\u001b[0m\u001b[0;34m.\u001b[0m\u001b[0mgroup\u001b[0m\u001b[0;34m(\u001b[0m\u001b[0;36m0\u001b[0m\u001b[0;34m)\u001b[0m\u001b[0;34m\u001b[0m\u001b[0;34m\u001b[0m\u001b[0m\n\u001b[1;32m    144\u001b[0m     \u001b[0;32mreturn\u001b[0m \u001b[0mcurrent_version\u001b[0m\u001b[0;34m\u001b[0m\u001b[0;34m\u001b[0m\u001b[0m\n",
      "\u001b[0;31mValueError\u001b[0m: Could not get version for Chrome with this command: google-chrome --version || google-chrome-stable --version"
     ]
    }
   ],
   "source": [
    "from selenium import webdriver\n",
    "\n",
    "from webdriver_manager.chrome import ChromeDriverManager\n",
    "\n",
    "driver = webdriver.Chrome(ChromeDriverManager().install())"
   ]
  },
  {
   "cell_type": "code",
   "execution_count": 135,
   "metadata": {},
   "outputs": [
    {
     "name": "stderr",
     "output_type": "stream",
     "text": [
      "[WDM] - ====== WebDriver manager ======\n"
     ]
    },
    {
     "name": "stdout",
     "output_type": "stream",
     "text": [
      "\n",
      "\n"
     ]
    },
    {
     "ename": "ValueError",
     "evalue": "Could not get version for Chrome with this command: google-chrome --version || google-chrome-stable --version",
     "output_type": "error",
     "traceback": [
      "\u001b[0;31m---------------------------------------------------------------------------\u001b[0m",
      "\u001b[0;31mValueError\u001b[0m                                Traceback (most recent call last)",
      "\u001b[0;32m<ipython-input-135-98fc5606cb04>\u001b[0m in \u001b[0;36m<module>\u001b[0;34m\u001b[0m\n\u001b[1;32m      3\u001b[0m \u001b[0;34m\u001b[0m\u001b[0m\n\u001b[1;32m      4\u001b[0m \u001b[0;34m\u001b[0m\u001b[0m\n\u001b[0;32m----> 5\u001b[0;31m \u001b[0mbrowser\u001b[0m \u001b[0;34m=\u001b[0m \u001b[0mwebdriver\u001b[0m\u001b[0;34m.\u001b[0m\u001b[0mChrome\u001b[0m\u001b[0;34m(\u001b[0m\u001b[0mChromeDriverManager\u001b[0m\u001b[0;34m(\u001b[0m\u001b[0mchrome_type\u001b[0m\u001b[0;34m=\u001b[0m\u001b[0mChromeType\u001b[0m\u001b[0;34m.\u001b[0m\u001b[0mGOOGLE\u001b[0m\u001b[0;34m)\u001b[0m\u001b[0;34m.\u001b[0m\u001b[0minstall\u001b[0m\u001b[0;34m(\u001b[0m\u001b[0;34m)\u001b[0m\u001b[0;34m)\u001b[0m\u001b[0;34m\u001b[0m\u001b[0;34m\u001b[0m\u001b[0m\n\u001b[0m",
      "\u001b[0;32m~/.local/lib/python3.7/site-packages/webdriver_manager/chrome.py\u001b[0m in \u001b[0;36m__init__\u001b[0;34m(self, version, os_type, path, name, url, latest_release_url, chrome_type, log_level, print_first_line, cache_valid_range)\u001b[0m\n\u001b[1;32m     28\u001b[0m                                    \u001b[0murl\u001b[0m\u001b[0;34m=\u001b[0m\u001b[0murl\u001b[0m\u001b[0;34m,\u001b[0m\u001b[0;34m\u001b[0m\u001b[0;34m\u001b[0m\u001b[0m\n\u001b[1;32m     29\u001b[0m                                    \u001b[0mlatest_release_url\u001b[0m\u001b[0;34m=\u001b[0m\u001b[0mlatest_release_url\u001b[0m\u001b[0;34m,\u001b[0m\u001b[0;34m\u001b[0m\u001b[0;34m\u001b[0m\u001b[0m\n\u001b[0;32m---> 30\u001b[0;31m                                    chrome_type=chrome_type)\n\u001b[0m\u001b[1;32m     31\u001b[0m \u001b[0;34m\u001b[0m\u001b[0m\n\u001b[1;32m     32\u001b[0m     \u001b[0;32mdef\u001b[0m \u001b[0minstall\u001b[0m\u001b[0;34m(\u001b[0m\u001b[0mself\u001b[0m\u001b[0;34m)\u001b[0m\u001b[0;34m:\u001b[0m\u001b[0;34m\u001b[0m\u001b[0;34m\u001b[0m\u001b[0m\n",
      "\u001b[0;32m~/.local/lib/python3.7/site-packages/webdriver_manager/driver.py\u001b[0m in \u001b[0;36m__init__\u001b[0;34m(self, name, version, os_type, url, latest_release_url, chrome_type)\u001b[0m\n\u001b[1;32m     52\u001b[0m                                            latest_release_url)\n\u001b[1;32m     53\u001b[0m         \u001b[0mself\u001b[0m\u001b[0;34m.\u001b[0m\u001b[0mchrome_type\u001b[0m \u001b[0;34m=\u001b[0m \u001b[0mchrome_type\u001b[0m\u001b[0;34m\u001b[0m\u001b[0;34m\u001b[0m\u001b[0m\n\u001b[0;32m---> 54\u001b[0;31m         \u001b[0mself\u001b[0m\u001b[0;34m.\u001b[0m\u001b[0mbrowser_version\u001b[0m \u001b[0;34m=\u001b[0m \u001b[0mchrome_version\u001b[0m\u001b[0;34m(\u001b[0m\u001b[0mchrome_type\u001b[0m\u001b[0;34m)\u001b[0m\u001b[0;34m\u001b[0m\u001b[0;34m\u001b[0m\u001b[0m\n\u001b[0m\u001b[1;32m     55\u001b[0m \u001b[0;34m\u001b[0m\u001b[0m\n\u001b[1;32m     56\u001b[0m     \u001b[0;32mdef\u001b[0m \u001b[0mget_os_type\u001b[0m\u001b[0;34m(\u001b[0m\u001b[0mself\u001b[0m\u001b[0;34m)\u001b[0m\u001b[0;34m:\u001b[0m\u001b[0;34m\u001b[0m\u001b[0;34m\u001b[0m\u001b[0m\n",
      "\u001b[0;32m~/.local/lib/python3.7/site-packages/webdriver_manager/utils.py\u001b[0m in \u001b[0;36mchrome_version\u001b[0;34m(browser_type)\u001b[0m\n\u001b[1;32m    140\u001b[0m     \u001b[0mversion\u001b[0m \u001b[0;34m=\u001b[0m \u001b[0mre\u001b[0m\u001b[0;34m.\u001b[0m\u001b[0msearch\u001b[0m\u001b[0;34m(\u001b[0m\u001b[0mpattern\u001b[0m\u001b[0;34m,\u001b[0m \u001b[0mstdout\u001b[0m\u001b[0;34m)\u001b[0m\u001b[0;34m\u001b[0m\u001b[0;34m\u001b[0m\u001b[0m\n\u001b[1;32m    141\u001b[0m     \u001b[0;32mif\u001b[0m \u001b[0;32mnot\u001b[0m \u001b[0mversion\u001b[0m\u001b[0;34m:\u001b[0m\u001b[0;34m\u001b[0m\u001b[0;34m\u001b[0m\u001b[0m\n\u001b[0;32m--> 142\u001b[0;31m         \u001b[0;32mraise\u001b[0m \u001b[0mValueError\u001b[0m\u001b[0;34m(\u001b[0m\u001b[0;34mf'Could not get version for Chrome with this command: {cmd}'\u001b[0m\u001b[0;34m)\u001b[0m\u001b[0;34m\u001b[0m\u001b[0;34m\u001b[0m\u001b[0m\n\u001b[0m\u001b[1;32m    143\u001b[0m     \u001b[0mcurrent_version\u001b[0m \u001b[0;34m=\u001b[0m \u001b[0mversion\u001b[0m\u001b[0;34m.\u001b[0m\u001b[0mgroup\u001b[0m\u001b[0;34m(\u001b[0m\u001b[0;36m0\u001b[0m\u001b[0;34m)\u001b[0m\u001b[0;34m\u001b[0m\u001b[0;34m\u001b[0m\u001b[0m\n\u001b[1;32m    144\u001b[0m     \u001b[0;32mreturn\u001b[0m \u001b[0mcurrent_version\u001b[0m\u001b[0;34m\u001b[0m\u001b[0;34m\u001b[0m\u001b[0m\n",
      "\u001b[0;31mValueError\u001b[0m: Could not get version for Chrome with this command: google-chrome --version || google-chrome-stable --version"
     ]
    }
   ],
   "source": [
    "from webdriver_manager.chrome import ChromeDriverManager\n",
    "from webdriver_manager.utils import ChromeType\n",
    "\n",
    "\n",
    "browser = webdriver.Chrome(ChromeDriverManager(chrome_type=ChromeType.GOOGLE).install())"
   ]
  },
  {
   "cell_type": "markdown",
   "metadata": {},
   "source": [
    "7. Write a program to scrap all the available details of top 10 gaming laptops from digit.in."
   ]
  },
  {
   "cell_type": "code",
   "execution_count": 53,
   "metadata": {},
   "outputs": [],
   "source": [
    "page=requests.get(\"https://www.digit.in/top-products/best-gaming-laptops-40.html\")"
   ]
  },
  {
   "cell_type": "code",
   "execution_count": 54,
   "metadata": {},
   "outputs": [],
   "source": [
    "soup=BeautifulSoup(page.content, \"html.parser\")"
   ]
  },
  {
   "cell_type": "code",
   "execution_count": 55,
   "metadata": {},
   "outputs": [],
   "source": [
    "ranks=[]\n",
    "name=[]\n",
    "r=soup.find_all(\"div\", class_=\"right-container\")\n",
    "for i in r:\n",
    "    r1=i.find_all(\"div\",class_=\"TopNumbeHeading active sticky-footer\")\n",
    "    for j in r1:\n",
    "        r2=j.text.split()\n",
    "        ranks.append(r2[0])\n",
    "        name.append(\" \".join(r2[1:]))"
   ]
  },
  {
   "cell_type": "code",
   "execution_count": 58,
   "metadata": {},
   "outputs": [
    {
     "data": {
      "text/plain": [
       "10"
      ]
     },
     "execution_count": 58,
     "metadata": {},
     "output_type": "execute_result"
    }
   ],
   "source": [
    "len(ranks)"
   ]
  },
  {
   "cell_type": "code",
   "execution_count": 69,
   "metadata": {},
   "outputs": [],
   "source": [
    "img=[]\n",
    "p=soup.find_all(\"div\", class_=\"product-ickon\")\n",
    "for i in p:\n",
    "    p1=i.find(\"img\")\n",
    "    img.append(p1.get(\"src\"))"
   ]
  },
  {
   "cell_type": "code",
   "execution_count": 72,
   "metadata": {},
   "outputs": [
    {
     "data": {
      "text/plain": [
       "10"
      ]
     },
     "execution_count": 72,
     "metadata": {},
     "output_type": "execute_result"
    }
   ],
   "source": [
    "len(img)"
   ]
  },
  {
   "cell_type": "code",
   "execution_count": 73,
   "metadata": {},
   "outputs": [],
   "source": [
    "os=[]\n",
    "display=[]\n",
    "processor=[]\n",
    "memory=[]\n",
    "p=soup.find_all(\"div\", class_=\"product-detail\")\n",
    "for i in p:\n",
    "    p1=i.find_all(\"div\", class_=\"value\")\n",
    "    os.append(p1[0].text)\n",
    "    display.append(p1[1].text)\n",
    "    processor.append(p1[2].text)\n",
    "    memory.append(p1[3].text)"
   ]
  },
  {
   "cell_type": "code",
   "execution_count": 74,
   "metadata": {},
   "outputs": [],
   "source": [
    "details=[]\n",
    "d=soup.find_all(\"div\", class_=\"Section-center\")\n",
    "for i in d:\n",
    "    d1=i.find_all(\"p\")\n",
    "    details.append(d1[0].text)"
   ]
  },
  {
   "cell_type": "code",
   "execution_count": 75,
   "metadata": {},
   "outputs": [
    {
     "data": {
      "text/plain": [
       "10"
      ]
     },
     "execution_count": 75,
     "metadata": {},
     "output_type": "execute_result"
    }
   ],
   "source": [
    "len(details)"
   ]
  },
  {
   "cell_type": "code",
   "execution_count": 76,
   "metadata": {},
   "outputs": [],
   "source": [
    "price=[]\n",
    "p=soup.find_all(\"td\", class_=\"smprice\")\n",
    "for i in p:\n",
    "    price.append(i.text.replace(\"\\n\", \"\").replace(\"₹\", \"Rs.\"))"
   ]
  },
  {
   "cell_type": "code",
   "execution_count": 77,
   "metadata": {},
   "outputs": [
    {
     "data": {
      "text/plain": [
       "['Rs.379990',\n",
       " 'Rs.489909',\n",
       " 'Rs.117790',\n",
       " 'Rs.164990',\n",
       " 'Rs.79990',\n",
       " 'Rs.79990',\n",
       " 'Rs.146000',\n",
       " 'Rs.349990',\n",
       " 'Rs.269975',\n",
       " 'Rs.61990']"
      ]
     },
     "execution_count": 77,
     "metadata": {},
     "output_type": "execute_result"
    }
   ],
   "source": [
    "price"
   ]
  },
  {
   "cell_type": "code",
   "execution_count": 78,
   "metadata": {},
   "outputs": [],
   "source": [
    "av=[]\n",
    "a=soup.find_all(\"div\", class_=\"Section-center\")\n",
    "for i in a:\n",
    "    a1=i.find_all(\"table\", class_=\"table\")\n",
    "    if a1==[]:\n",
    "        av.append(\"NA\")\n",
    "    else:\n",
    "        for j in a1:\n",
    "            a2=j.find_all(\"tr\")\n",
    "            for k in a2:\n",
    "                if (k.get(\"eventvalue\")=='1'):\n",
    "                    av.append(k.get(\"data-seller\"))"
   ]
  },
  {
   "cell_type": "code",
   "execution_count": 79,
   "metadata": {},
   "outputs": [
    {
     "data": {
      "text/plain": [
       "10"
      ]
     },
     "execution_count": 79,
     "metadata": {},
     "output_type": "execute_result"
    }
   ],
   "source": [
    "len(av)"
   ]
  },
  {
   "cell_type": "code",
   "execution_count": 80,
   "metadata": {},
   "outputs": [],
   "source": [
    "pros=[]\n",
    "pc=soup.find_all(\"div\", class_=\"Section-center\")\n",
    "for i in pc:\n",
    "    pc1=i.find_all(\"div\", class_=\"pros_cons_container\")\n",
    "    if pc1==[]:\n",
    "        pros.append(\"NA\")\n",
    "    else:\n",
    "        for j in pc1:\n",
    "            pc2=j.find_all(\"div\", class_=\"pros_container\")\n",
    "            pc3=pc2[0].find_all(\"ul\")\n",
    "            pros.append(pc3[0].text)"
   ]
  },
  {
   "cell_type": "code",
   "execution_count": 81,
   "metadata": {},
   "outputs": [
    {
     "data": {
      "text/plain": [
       "['NA',\n",
       " 'NA',\n",
       " '\\nImpressive thermals.\\nPerforms well for gamers and content creators.\\nThe display is crisp and colour accurate\\n',\n",
       " '\\nImpressive performance for the form-factor.\\nAnime Matrix display is a very well implemented gimmick.\\nTruly one-of-a-kind machine at the moment.\\n',\n",
       " '\\nSturdy build, clean look\\nTop performance (incl. gaming)\\nDecent audio quality\\n',\n",
       " '\\nNoteworthy performance\\nComfortable keyboard\\nSurprisingly good audio\\n',\n",
       " 'NA',\n",
       " 'NA',\n",
       " 'NA',\n",
       " '\\nSeriously fast fingerprint scanner\\nSpeakers are quite loud\\nStays cool when clock rates rise\\n']"
      ]
     },
     "execution_count": 81,
     "metadata": {},
     "output_type": "execute_result"
    }
   ],
   "source": [
    "pros"
   ]
  },
  {
   "cell_type": "code",
   "execution_count": 82,
   "metadata": {},
   "outputs": [],
   "source": [
    "cons=[]\n",
    "pc=soup.find_all(\"div\", class_=\"Section-center\")\n",
    "for i in pc:\n",
    "    pc1=i.find_all(\"div\", class_=\"pros_cons_container\")\n",
    "    if pc1==[]:\n",
    "        cons.append(\"NA\")\n",
    "    else:\n",
    "        for j in pc1:\n",
    "            pc2=j.find_all(\"div\", class_=\"pros_container cons\")\n",
    "            for k in pc2:\n",
    "                    cons.append(k.text)"
   ]
  },
  {
   "cell_type": "code",
   "execution_count": 83,
   "metadata": {},
   "outputs": [
    {
     "data": {
      "text/plain": [
       "10"
      ]
     },
     "execution_count": 83,
     "metadata": {},
     "output_type": "execute_result"
    }
   ],
   "source": [
    "len(cons)"
   ]
  },
  {
   "cell_type": "code",
   "execution_count": 84,
   "metadata": {},
   "outputs": [],
   "source": [
    "import pandas as pd\n",
    "digit_in=pd.DataFrame()"
   ]
  },
  {
   "cell_type": "code",
   "execution_count": 85,
   "metadata": {},
   "outputs": [],
   "source": [
    "digit_in[\"Rank\"]=ranks\n",
    "digit_in[\"Product Name\"]=name\n",
    "digit_in[\"Image Link\"]=img\n",
    "digit_in[\"OS\"]=os\n",
    "digit_in[\"Display\"]=display\n",
    "digit_in[\"Processor\"]=processor\n",
    "digit_in[\"Memory\"]=memory\n",
    "digit_in[\"Min. Price\"]=price\n",
    "digit_in[\"Available At\"]=av\n",
    "digit_in[\"Other Details\"]=details\n",
    "digit_in[\"Pros\"]=pros\n",
    "digit_in[\"Cons\"]=cons"
   ]
  },
  {
   "cell_type": "code",
   "execution_count": 86,
   "metadata": {},
   "outputs": [],
   "source": [
    "digit_in.to_csv(\"DigitInProducts.csv\")"
   ]
  },
  {
   "cell_type": "markdown",
   "metadata": {},
   "source": [
    "6.Write a program to scrap details of all the funding deals for second quarter (i.e. July 20 – September 20) from trak.in."
   ]
  },
  {
   "cell_type": "code",
   "execution_count": 4,
   "metadata": {},
   "outputs": [],
   "source": [
    "page=requests.get(\"https://trak.in/india-startup-funding-investment-2015/\")"
   ]
  },
  {
   "cell_type": "code",
   "execution_count": 5,
   "metadata": {},
   "outputs": [],
   "source": [
    "soup=BeautifulSoup(page.content, \"html.parser\")"
   ]
  },
  {
   "cell_type": "code",
   "execution_count": 6,
   "metadata": {},
   "outputs": [],
   "source": [
    "head=[]\n",
    "headings=soup.find_all(\"tr\", class_=\"row-1 odd\")\n",
    "for h in headings:\n",
    "    h1=h.find_all(\"th\")\n",
    "for i in h1:\n",
    "    head.append(i.text)"
   ]
  },
  {
   "cell_type": "code",
   "execution_count": 7,
   "metadata": {},
   "outputs": [
    {
     "data": {
      "text/plain": [
       "['Sr. No.',\n",
       " 'Date (dd/mm/yyyy)',\n",
       " 'Startup Name',\n",
       " 'Industry / Vertical',\n",
       " 'Sub-Vertical',\n",
       " 'City / Location',\n",
       " \"Investors' Name\",\n",
       " 'Investment Type',\n",
       " 'Amount (In USD)']"
      ]
     },
     "execution_count": 7,
     "metadata": {},
     "output_type": "execute_result"
    }
   ],
   "source": [
    "head"
   ]
  },
  {
   "cell_type": "code",
   "execution_count": 8,
   "metadata": {},
   "outputs": [
    {
     "name": "stdout",
     "output_type": "stream",
     "text": [
      "<h2 class=\"tablepress-table-name tablepress-table-name-id-50\">September, 2020</h2>\n",
      "<h2 class=\"tablepress-table-name tablepress-table-name-id-49\">August, 2020</h2>\n",
      "<h2 class=\"tablepress-table-name tablepress-table-name-id-48\">July, 2020</h2>\n"
     ]
    }
   ],
   "source": [
    "year=soup.find_all(\"h2\", {\"class\": True})\n",
    "for y in year:\n",
    "    if((y.text)==(\"September, 2020\") or (y.text)==(\"July, 2020\") or (y.text)==(\"August, 2020\")):\n",
    "        print(y)"
   ]
  },
  {
   "cell_type": "code",
   "execution_count": 12,
   "metadata": {},
   "outputs": [],
   "source": [
    "rows=soup.find_all(\"tbody\", class_=\"row-hover\")"
   ]
  },
  {
   "cell_type": "code",
   "execution_count": 13,
   "metadata": {},
   "outputs": [],
   "source": [
    "imp=rows[4:7]"
   ]
  },
  {
   "cell_type": "code",
   "execution_count": 17,
   "metadata": {},
   "outputs": [],
   "source": [
    "no=[]\n",
    "for i in imp:\n",
    "    trs=i.find_all(\"tr\")\n",
    "    for j in trs:\n",
    "        nos=j.find_all(\"td\", class_=\"column-1\")\n",
    "        for k in nos:\n",
    "            no.append(k.text)"
   ]
  },
  {
   "cell_type": "code",
   "execution_count": 20,
   "metadata": {},
   "outputs": [
    {
     "data": {
      "text/plain": [
       "33"
      ]
     },
     "execution_count": 20,
     "metadata": {},
     "output_type": "execute_result"
    }
   ],
   "source": [
    "len(no)"
   ]
  },
  {
   "cell_type": "code",
   "execution_count": 23,
   "metadata": {},
   "outputs": [],
   "source": [
    "date=[]\n",
    "for i in imp:\n",
    "    trs=i.find_all(\"tr\")\n",
    "    for j in trs:\n",
    "        dates=j.find_all(\"td\", class_=\"column-2\")\n",
    "        for k in dates:\n",
    "            date.append(k.text)"
   ]
  },
  {
   "cell_type": "code",
   "execution_count": 24,
   "metadata": {
    "collapsed": true,
    "jupyter": {
     "outputs_hidden": true
    }
   },
   "outputs": [
    {
     "data": {
      "text/plain": [
       "(['08/09/2020',\n",
       "  '12/09/2020',\n",
       "  '09/09/2020',\n",
       "  '02/09/2020',\n",
       "  '09/09/2020',\n",
       "  '07/09/2020',\n",
       "  '07/09/2020',\n",
       "  '31/08/2020',\n",
       "  '31/08/2020',\n",
       "  '03/09/2020',\n",
       "  '08/09/2020',\n",
       "  '15/08/2020',\n",
       "  '13/08/2020',\n",
       "  '13/08/2020',\n",
       "  '04/08/2020',\n",
       "  '11/08/2020',\n",
       "  '12/08/2020',\n",
       "  '14/08/2020',\n",
       "  '10/08/2020',\n",
       "  '07/08/2020',\n",
       "  '13/08/2020',\n",
       "  '03/08/2020',\n",
       "  '04/08/2020',\n",
       "  '15/07/2020',\n",
       "  '16/07/2020',\n",
       "  '16/07/2020',\n",
       "  '14/07/2020',\n",
       "  '13/07/2020',\n",
       "  '09/07/2020',\n",
       "  '10/07/2020',\n",
       "  '15/07/2020',\n",
       "  '14/07/2020',\n",
       "  '13/07/2020'],\n",
       " 33)"
      ]
     },
     "execution_count": 24,
     "metadata": {},
     "output_type": "execute_result"
    }
   ],
   "source": [
    "date, len(date)"
   ]
  },
  {
   "cell_type": "code",
   "execution_count": 25,
   "metadata": {},
   "outputs": [],
   "source": [
    "startup=[]\n",
    "for m in imp:\n",
    "    trs=m.find_all(\"tr\")\n",
    "    for j in trs:\n",
    "        s=j.find_all(\"td\", class_=\"column-3\")\n",
    "        for k in s:\n",
    "            startup.append(k.text)"
   ]
  },
  {
   "cell_type": "code",
   "execution_count": 26,
   "metadata": {},
   "outputs": [
    {
     "data": {
      "text/plain": [
       "33"
      ]
     },
     "execution_count": 26,
     "metadata": {},
     "output_type": "execute_result"
    }
   ],
   "source": [
    "len(startup)"
   ]
  },
  {
   "cell_type": "code",
   "execution_count": 27,
   "metadata": {},
   "outputs": [],
   "source": [
    "industry=[]\n",
    "for m in imp:\n",
    "    trs=m.find_all(\"tr\")\n",
    "    for i in trs:\n",
    "        verts=i.find_all(\"td\", class_=\"column-4\")\n",
    "        for j in verts:\n",
    "            industry.append(j.text)"
   ]
  },
  {
   "cell_type": "code",
   "execution_count": 28,
   "metadata": {},
   "outputs": [
    {
     "data": {
      "text/plain": [
       "33"
      ]
     },
     "execution_count": 28,
     "metadata": {},
     "output_type": "execute_result"
    }
   ],
   "source": [
    "len(industry)"
   ]
  },
  {
   "cell_type": "code",
   "execution_count": 29,
   "metadata": {},
   "outputs": [],
   "source": [
    "subv=[]\n",
    "for m in imp:\n",
    "    trs=m.find_all(\"tr\")\n",
    "    for i in trs:\n",
    "        sub=i.find_all(\"td\", class_=\"column-5\")\n",
    "        for j in sub:\n",
    "            subv.append(j.text)"
   ]
  },
  {
   "cell_type": "code",
   "execution_count": 30,
   "metadata": {},
   "outputs": [
    {
     "data": {
      "text/plain": [
       "33"
      ]
     },
     "execution_count": 30,
     "metadata": {},
     "output_type": "execute_result"
    }
   ],
   "source": [
    "len(subv)"
   ]
  },
  {
   "cell_type": "code",
   "execution_count": 31,
   "metadata": {},
   "outputs": [],
   "source": [
    "city=[]\n",
    "for m in imp:\n",
    "    trs=m.find_all(\"tr\")\n",
    "    for i in trs:\n",
    "        c=i.find_all(\"td\", class_=\"column-6\")\n",
    "        for j in c:\n",
    "            city.append(j.text)"
   ]
  },
  {
   "cell_type": "code",
   "execution_count": 32,
   "metadata": {},
   "outputs": [
    {
     "data": {
      "text/plain": [
       "33"
      ]
     },
     "execution_count": 32,
     "metadata": {},
     "output_type": "execute_result"
    }
   ],
   "source": [
    "len(city)"
   ]
  },
  {
   "cell_type": "code",
   "execution_count": 33,
   "metadata": {},
   "outputs": [],
   "source": [
    "inv_name=[]\n",
    "for m in imp:\n",
    "    trs=m.find_all(\"tr\")\n",
    "    for i in trs:\n",
    "        inv_names=i.find_all(\"td\", class_=\"column-7\")\n",
    "        for j in inv_names:\n",
    "            inv_name.append(j.text)"
   ]
  },
  {
   "cell_type": "code",
   "execution_count": 35,
   "metadata": {},
   "outputs": [
    {
     "data": {
      "text/plain": [
       "33"
      ]
     },
     "execution_count": 35,
     "metadata": {},
     "output_type": "execute_result"
    }
   ],
   "source": [
    "len(inv_name)"
   ]
  },
  {
   "cell_type": "code",
   "execution_count": 46,
   "metadata": {},
   "outputs": [],
   "source": [
    "inv_type=[]\n",
    "for m in imp:\n",
    "    trs=m.find_all(\"tr\")\n",
    "    for a in trs:\n",
    "        inv_types=a.find_all(\"td\", class_=\"column-8\")\n",
    "        for s in inv_types:\n",
    "            inv_type.append(s.text)"
   ]
  },
  {
   "cell_type": "code",
   "execution_count": 47,
   "metadata": {},
   "outputs": [
    {
     "data": {
      "text/plain": [
       "['Private Equity',\n",
       " 'Series B',\n",
       " 'Angel',\n",
       " 'Series B',\n",
       " 'Series A',\n",
       " 'Debt Financing',\n",
       " 'In Progress',\n",
       " 'Series B',\n",
       " 'Series A',\n",
       " 'Seed',\n",
       " 'pre-Series A',\n",
       " 'Series F',\n",
       " '',\n",
       " 'Series D1',\n",
       " 'In Progress',\n",
       " 'Seed',\n",
       " 'In Progress',\n",
       " '',\n",
       " '',\n",
       " 'Venture ',\n",
       " 'Series A',\n",
       " 'Angel',\n",
       " 'Pre-Series A',\n",
       " 'M&A',\n",
       " 'Series D',\n",
       " 'pre-Series A',\n",
       " 'Seed',\n",
       " 'pre-Series B',\n",
       " 'Venture-Series Unknown',\n",
       " 'pre-Series A',\n",
       " 'Seed',\n",
       " 'pre-Seed',\n",
       " 'Venture-Series Unknown']"
      ]
     },
     "execution_count": 47,
     "metadata": {},
     "output_type": "execute_result"
    }
   ],
   "source": [
    "inv_type"
   ]
  },
  {
   "cell_type": "code",
   "execution_count": 48,
   "metadata": {},
   "outputs": [],
   "source": [
    "amt=[]\n",
    "for m in imp:\n",
    "    trs=m.find_all(\"tr\")\n",
    "    for i in trs:\n",
    "        amt_usd=i.find_all(\"td\", class_=\"column-9\")\n",
    "        for j in amt_usd:\n",
    "            amt.append(j.text)"
   ]
  },
  {
   "cell_type": "code",
   "execution_count": 49,
   "metadata": {},
   "outputs": [
    {
     "data": {
      "text/plain": [
       "33"
      ]
     },
     "execution_count": 49,
     "metadata": {},
     "output_type": "execute_result"
    }
   ],
   "source": [
    "len(amt)"
   ]
  },
  {
   "cell_type": "code",
   "execution_count": 50,
   "metadata": {},
   "outputs": [],
   "source": [
    "import pandas as pd\n",
    "trakin=pd.DataFrame()"
   ]
  },
  {
   "cell_type": "code",
   "execution_count": 51,
   "metadata": {},
   "outputs": [],
   "source": [
    "trakin[\"Date\"]=date\n",
    "trakin[\"Start Up\"]=startup\n",
    "trakin[\"Industry\"]=industry\n",
    "trakin[\"Sub-vertical\"]=subv\n",
    "trakin[\"City\"]=city\n",
    "trakin[\"Investors Name\"]=inv_name\n",
    "trakin[\"Investors Type\"]=inv_type\n",
    "trakin[\"Amount (In USD)\"]=amt"
   ]
  },
  {
   "cell_type": "code",
   "execution_count": 52,
   "metadata": {},
   "outputs": [],
   "source": [
    "trakin.to_csv(\"Trakin 2nd Quarter Funding Deals.csv\")"
   ]
  },
  {
   "cell_type": "markdown",
   "metadata": {},
   "source": [
    "3.Write a python program to access the search bar and search button on images.google.com and scrape 100 images each for keywords ‘fruits’, ‘cars’ and ‘Machine Learning’."
   ]
  },
  {
   "cell_type": "code",
   "execution_count": 78,
   "metadata": {},
   "outputs": [],
   "source": [
    "page=requests.get(\"https://www.google.co.in/search?hl=en&authuser=0&tbm=isch&sxsrf=ALeKk02uv-UXNSzZu3S6YdhOmH2dq61yYw%3A1612506521763&source=hp&biw=811&bih=657&ei=meUcYOirK--U4-EPr_uw-Ac&q=fruits&oq=&gs_lcp=CgNpbWcQARgAMgcIIxDqAhAnMgcIIxDqAhAnMgcIIxDqAhAnMgcIIxDqAhAnMgcIIxDqAhAnMgcIIxDqAhAnMgcIIxDqAhAnMgcIIxDqAhAnMgcIIxDqAhAnMgcIIxDqAhAnUABYAGDFMWgBcAB4AIABAIgBAJIBAJgBAKoBC2d3cy13aXotaW1nsAEK&sclient=img\")"
   ]
  },
  {
   "cell_type": "code",
   "execution_count": 79,
   "metadata": {},
   "outputs": [
    {
     "data": {
      "text/plain": [
       "b'<!DOCTYPE html PUBLIC \"-//WAPFORUM//DTD XHTML Mobile 1.0//EN\" \"http://www.wapforum.org/DTD/xhtml-mobile10.dtd\"><html xmlns=\"http://www.w3.org/1999/xhtml\" lang=\"en\"><head><meta content=\"application/xhtml+xml; charset=UTF-8\" http-equiv=\"Content-Type\"/><meta content=\"no-cache\" name=\"Cache-Control\"/><title>fruits - Google Search</title><style>a{text-decoration:none;color:inherit}a:hover{text-decoration:underline}a img{border:0}body{font-family:Roboto,Helvetica,Arial,sans-serif;padding:8px;margin:0 auto;max-width:700px;min-width:240px;}.FbhRzb{border-left:thin solid #dadce0;border-right:thin solid #dadce0;border-top:thin solid #dadce0;height:40px;overflow:hidden}.n692Zd{margin-bottom:10px}.cvifge{height:40px;border-spacing:0}.QvGUP{height:40px;padding:0 8px 0 8px;vertical-align:top}.O4cRJf{height:40px;width:100%;padding:0;padding-right:16px}.O1ePr{height:40px;padding:0;vertical-align:top}.kgJEQe{height:36px;width:98px;vertical-align:top;margin-top:4px}.lXLRf{vertical-align:top}.MhzMZd{border:0;vertical-align:middle;font-size:14px;height:40px;padding:0;width:100%;padding-left:16px}.xB0fq{height:40px;border:none;font-size:14px;background-color:#4285f4;color:#fff;padding:0 16px;margin:0;vertical-align:top;cursor:pointer}.xB0fq:focus{border:1px solid #000}.M7pB2{border:thin solid #dadce0;margin:0 0 3px 0;font-size:13px;font-weight:500;height:40px}.euZec{width:100%;height:40px;text-align:center;border-spacing:0}table.euZec td{padding:0;width:25%}.QIqI7{display:inline-block;padding-top:4px;font-weight:bold;color:#4285f4}.EY24We{border-bottom:2px solid #4285f4}.CsQyDc{display:inline-block;color:#70757a}.TuS8Ad{font-size:14px}.HddGcc{padding:8px;color:#70757a}.dzp8ae{font-weight:bold;color:#3c4043}.rEM8G{color:#70757a}.bookcf{table-layout:fixed;width:100%;border-spacing:0}.InWNIe{text-align:center}.uZgmoc{border:thin solid #dadce0;color:#70757a;font-size:14px;text-align:center;table-layout:fixed;width:100%}.frGj1b{display:block;padding:12px 0px 12px 0px;width:100%}.BnJWBc{text-align:center;padding:6px 0 13px 0;height:35px}.e3goi{vertical-align:top;padding:0;height:180px}.GpQGbf{margin:auto;border-collapse:collapse;border-spacing:0;width:100%}</style></head><body><style>.X6ZCif{color:#202124;font-size:11px;line-height:16px;display:inline-block;padding-top:2px;overflow:hidden;padding-bottom:4px;width:100%}.TwVfHd{border-radius:16px;border:thin solid #dadce0;display:inline-block;padding:8px 8px;margin-right:8px;margin-bottom:4px}.yekiAe{background-color:#dadce0}.svla5d{width:100%}.ezO2md{border:thin solid #dadce0;padding:12px 16px 12px 16px;margin-bottom:10px;font-family:Roboto,Helvetica,Arial,sans-serif}.lIMUZd{font-family:Roboto,Helvetica,Arial,sans-serif}.TxbwNb{border-spacing:0}.K35ahc{width:100%}.owohpf{text-align:center}.RAyV4b{width:162px;height:140px;line-height:140px;overflow:\\'hidden\\';text-align:center}.t0fcAb{text-align:center;margin:auto;vertical-align:middle;max-width:162px;max-height:140px}.Tor4Ec{padding-top:2px;padding-bottom:8px;}.fYyStc{word-break:break-word}.ynsChf{display:block;white-space:nowrap;overflow:hidden;text-overflow:ellipsis}.Fj3V3b{color:#1967D2;font-size:14px;line-height:20px}.FrIlee{color:#202124;font-size:11px;line-height:16px}.F9iS2e{color:#70757a;font-size:11px;line-height:16px}.WMQ2Le{color:#70757a;font-size:12px;line-height:16px}.x3G5ab{color:#202124;font-size:12px;line-height:16px}.fuLhoc{color:#1967D2;font-size:16px;line-height:20px}.epoveb{font-size:24px;line-height:28px;font-weight:400;color:#202124}.dXDvrc{color:#0d652d;font-size:14px;line-height:20px;word-wrap:break-word}.dloBPe{font-weight:bold}.YVIcad{color:#70757a}.JkVVdd{color:#ea4335}.oXZRFd{color:#ea4335}.MQHtg{color:#fbbc04}.pyMRrb{color:#1e8e3e}.EtTZid{color:#1e8e3e}.M3vVJe{color:#1967D2}.qXLe6d{display:block}.NHQNef{font-style:italic}.Cb8Z7c{white-space:pre}a.ZWRArf{text-decoration:none}a .CVA68e:hover{text-decoration:underline}</style><div class=\"n692Zd\"><div class=\"BnJWBc\"><a class=\"lXLRf\" href=\"/?hl=en&amp;authuser=0&amp;biw=811&amp;bih=657&amp;output=images&amp;ie=UTF-8&amp;tbm=isch&amp;sa=X&amp;ved=0ahUKEwjQgcm6qdfuAhWDoFsKHY8sCEIQPAgC\"><img class=\"kgJEQe\" src=\"/images/branding/searchlogo/1x/googlelogo_desk_heirloom_color_150x55dp.gif\" alt=\"Google\"/></a></div><div class=\"FbhRzb\"><form action=\"/search\"><input name=\"hl\" value=\"en\" type=\"hidden\"/><input name=\"authuser\" value=\"0\" type=\"hidden\"/><input name=\"biw\" value=\"811\" type=\"hidden\"/><input name=\"bih\" value=\"657\" type=\"hidden\"/><input name=\"ie\" value=\"ISO-8859-1\" type=\"hidden\"/><input name=\"tbm\" value=\"isch\" type=\"hidden\"/><input name=\"oq\" type=\"hidden\"/><input name=\"aqs\" type=\"hidden\"/><table class=\"cvifge\"><tr><td class=\"O4cRJf\"><input class=\"MhzMZd\" value=\"fruits\" name=\"q\" type=\"text\"/></td><td class=\"O1ePr\"><input class=\"xB0fq\" value=\"Search\" type=\"submit\"/></td></tr></table></form></div><div class=\"M7pB2\"><table class=\"euZec\"><tbody><tr><td><a class=\"CsQyDc\" href=\"/search?q=fruits&amp;hl=en&amp;authuser=0&amp;biw=811&amp;bih=657&amp;ie=UTF-8&amp;source=lnms&amp;sa=X&amp;ved=0ahUKEwjQgcm6qdfuAhWDoFsKHY8sCEIQ_AUIBCgA\">ALL</a></td><td class=\"EY24We\"><span class=\"QIqI7\">IMAGES</span></td><td><a class=\"CsQyDc\" href=\"/search?q=fruits&amp;hl=en&amp;authuser=0&amp;biw=811&amp;bih=657&amp;ie=UTF-8&amp;tbm=nws&amp;source=lnms&amp;sa=X&amp;ved=0ahUKEwjQgcm6qdfuAhWDoFsKHY8sCEIQ_AUIBigC\">NEWS</a></td><td><a class=\"CsQyDc\" href=\"/search?q=fruits&amp;hl=en&amp;authuser=0&amp;biw=811&amp;bih=657&amp;ie=UTF-8&amp;tbm=bks&amp;source=lnms&amp;sa=X&amp;ved=0ahUKEwjQgcm6qdfuAhWDoFsKHY8sCEIQ_AUIBygD\">BOOKS</a></td></tr></tbody></table></div></div><div class=\"X6ZCif\"><a class=\"TwVfHd\" href=\"/search?hl=en&amp;authuser=0&amp;biw=811&amp;bih=657&amp;ie=UTF-8&amp;tbm=isch&amp;q=fruits&amp;chips=q:fruits,online_chips:names&amp;sa=X&amp;ved=0ahUKEwjQgcm6qdfuAhWDoFsKHY8sCEIQ4lYICygA\">names</a><a class=\"TwVfHd\" href=\"/search?hl=en&amp;authuser=0&amp;biw=811&amp;bih=657&amp;ie=UTF-8&amp;tbm=isch&amp;q=fruits&amp;chips=q:fruits,online_chips:kids&amp;sa=X&amp;ved=0ahUKEwjQgcm6qdfuAhWDoFsKHY8sCEIQ4lYIDCgB\">kids</a><a class=\"TwVfHd\" href=\"/search?hl=en&amp;authuser=0&amp;biw=811&amp;bih=657&amp;ie=UTF-8&amp;tbm=isch&amp;q=fruits&amp;chips=q:fruits,online_chips:english&amp;sa=X&amp;ved=0ahUKEwjQgcm6qdfuAhWDoFsKHY8sCEIQ4lYIDSgC\">english</a><a class=\"TwVfHd\" href=\"/search?hl=en&amp;authuser=0&amp;biw=811&amp;bih=657&amp;ie=UTF-8&amp;tbm=isch&amp;q=fruits&amp;chips=q:fruits,online_chips:list&amp;sa=X&amp;ved=0ahUKEwjQgcm6qdfuAhWDoFsKHY8sCEIQ4lYIDigD\">list</a><a class=\"TwVfHd\" href=\"/search?hl=en&amp;authuser=0&amp;biw=811&amp;bih=657&amp;ie=UTF-8&amp;tbm=isch&amp;q=fruits&amp;chips=q:fruits,online_chips:vegetable&amp;sa=X&amp;ved=0ahUKEwjQgcm6qdfuAhWDoFsKHY8sCEIQ4lYIDygE\">vegetable</a><a class=\"TwVfHd\" href=\"/search?hl=en&amp;authuser=0&amp;biw=811&amp;bih=657&amp;ie=UTF-8&amp;tbm=isch&amp;q=fruits&amp;chips=q:fruits,online_chips:types&amp;sa=X&amp;ved=0ahUKEwjQgcm6qdfuAhWDoFsKHY8sCEIQ4lYIECgF\">types</a><a class=\"TwVfHd\" href=\"/search?hl=en&amp;authuser=0&amp;biw=811&amp;bih=657&amp;ie=UTF-8&amp;tbm=isch&amp;q=fruits&amp;chips=q:fruits,online_chips:veggies&amp;sa=X&amp;ved=0ahUKEwjQgcm6qdfuAhWDoFsKHY8sCEIQ4lYIESgG\">veggies</a><a class=\"TwVfHd\" href=\"/search?hl=en&amp;authuser=0&amp;biw=811&amp;bih=657&amp;ie=UTF-8&amp;tbm=isch&amp;q=fruits&amp;chips=q:fruits,online_chips:vocabulary&amp;sa=X&amp;ved=0ahUKEwjQgcm6qdfuAhWDoFsKHY8sCEIQ4lYIEigH\">vocabulary</a><a class=\"TwVfHd\" href=\"/search?hl=en&amp;authuser=0&amp;biw=811&amp;bih=657&amp;ie=UTF-8&amp;tbm=isch&amp;q=fruits&amp;chips=q:fruits,online_chips:thailand&amp;sa=X&amp;ved=0ahUKEwjQgcm6qdfuAhWDoFsKHY8sCEIQ4lYIEygI\">thailand</a><a class=\"TwVfHd\" href=\"/search?hl=en&amp;authuser=0&amp;biw=811&amp;bih=657&amp;ie=UTF-8&amp;tbm=isch&amp;q=fruits&amp;chips=q:fruits,online_chips:thai&amp;sa=X&amp;ved=0ahUKEwjQgcm6qdfuAhWDoFsKHY8sCEIQ4lYIFCgJ\">thai</a></div><div><table class=\"GpQGbf\"><tr><td class=\"e3goi\" align=\"center\"><div class=\"svla5d\"> <div> <div class=\"lIMUZd\"><div><table class=\"TxbwNb\"><tr><td><a href=\"/url?q=https://www.healthyeating.org/Healthy-Eating/All-Star-Foods/Fruits&amp;sa=U&amp;ved=2ahUKEwjQgcm6qdfuAhWDoFsKHY8sCEIQqoUBMAB6BAgAEAE&amp;usg=AOvVaw20GD3SH6CGQuwR5Ohlqbrp\"><div class=\"RAyV4b\"><img class=\"t0fcAb\" alt=\"\" src=\"https://encrypted-tbn0.gstatic.com/images?q=tbn:ANd9GcRvLCDra1-f4yYFZ_Da1mlxTXPsOJ8Idz0c1OhWv7whTcKMmEj6jGY9z8QLI6k&amp;s\"/></div></a></td></tr><tr><td><a href=\"/url?q=https://www.healthyeating.org/Healthy-Eating/All-Star-Foods/Fruits&amp;sa=U&amp;ved=2ahUKEwjQgcm6qdfuAhWDoFsKHY8sCEIQr4kDMAB6BAgAEAI&amp;usg=AOvVaw0G4yPYsvIKaMJ1pZtx6P5k\"><div class=\"Tor4Ec\">  <span class=\"qXLe6d x3G5ab\">  <span class=\"fYyStc\">2-2-2- ...</span>  </span>   <span class=\"qXLe6d F9iS2e\">  <span class=\"fYyStc\">healthyeating.org</span>  </span> </div></a></td></tr></table></div></div> </div> </div></td><td class=\"e3goi\" align=\"center\"><div class=\"svla5d\"> <div> <div class=\"lIMUZd\"><div><table class=\"TxbwNb\"><tr><td><a href=\"/url?q=https://en.wikipedia.org/wiki/Fruit&amp;sa=U&amp;ved=2ahUKEwjQgcm6qdfuAhWDoFsKHY8sCEIQqoUBMAF6BAgTEAE&amp;usg=AOvVaw2_FZGLL_lR3QFj4UCD0FzO\"><div class=\"RAyV4b\"><img class=\"t0fcAb\" alt=\"\" src=\"https://encrypted-tbn0.gstatic.com/images?q=tbn:ANd9GcQw9fT5pP3jN8DnBxQr0OYZZpdmZwqCvkf76iw1HuzOAr1VKNzNLZ8nqNSWrw&amp;s\"/></div></a></td></tr><tr><td><a href=\"/url?q=https://en.wikipedia.org/wiki/Fruit&amp;sa=U&amp;ved=2ahUKEwjQgcm6qdfuAhWDoFsKHY8sCEIQr4kDMAF6BAgTEAI&amp;usg=AOvVaw1OhpgfUBSu5Fv7KZrDuhtY\"><div class=\"Tor4Ec\">  <span class=\"qXLe6d x3G5ab\">  <span class=\"fYyStc\">Fruit - Wikipedia</span>  </span>   <span class=\"qXLe6d F9iS2e\">  <span class=\"fYyStc\">en.wikipedia.org</span>  </span> </div></a></td></tr></table></div></div> </div> </div></td><td class=\"e3goi\" align=\"center\"><div class=\"svla5d\"> <div> <div class=\"lIMUZd\"><div><table class=\"TxbwNb\"><tr><td><a href=\"/url?q=https://www.pinterest.com/pin/777363585661725897/&amp;sa=U&amp;ved=2ahUKEwjQgcm6qdfuAhWDoFsKHY8sCEIQqoUBMAJ6BAgSEAE&amp;usg=AOvVaw25_jlSnFynPfds0A9w5fx_\"><div class=\"RAyV4b\"><img class=\"t0fcAb\" alt=\"\" src=\"https://encrypted-tbn0.gstatic.com/images?q=tbn:ANd9GcQ3XYlEbsA-vipT5MT5zeuDJhsDcEc5U6ZFHzAgfthOywtFkfoXrfuLXLdgvA&amp;s\"/></div></a></td></tr><tr><td><a href=\"/url?q=https://www.pinterest.com/pin/777363585661725897/&amp;sa=U&amp;ved=2ahUKEwjQgcm6qdfuAhWDoFsKHY8sCEIQr4kDMAJ6BAgSEAI&amp;usg=AOvVaw3E59Utb5JMdBmf9DXe9Wn8\"><div class=\"Tor4Ec\">  <span class=\"qXLe6d x3G5ab\">  <span class=\"fYyStc\">List of Fruits: Learn...</span>  </span>   <span class=\"qXLe6d F9iS2e\">  <span class=\"fYyStc\">pinterest.com</span>  </span> </div></a></td></tr></table></div></div> </div> </div></td><td class=\"e3goi\" align=\"center\"><div class=\"svla5d\"> <div> <div class=\"lIMUZd\"><div><table class=\"TxbwNb\"><tr><td><a href=\"/url?q=https://www.goodhousekeeping.com/health/diet-nutrition/g28511617/healthiest-fruits/&amp;sa=U&amp;ved=2ahUKEwjQgcm6qdfuAhWDoFsKHY8sCEIQqoUBMAN6BAgQEAE&amp;usg=AOvVaw1RHLtuAv4_ntP5bXp5ibeU\"><div class=\"RAyV4b\"><img class=\"t0fcAb\" alt=\"\" src=\"https://encrypted-tbn0.gstatic.com/images?q=tbn:ANd9GcT-qh3Sn2C7V8fGxvUciW-X1Cc7dhGTIqQDJeCwilbpj5uv3ubKXw2PhlOh6A&amp;s\"/></div></a></td></tr><tr><td><a href=\"/url?q=https://www.goodhousekeeping.com/health/diet-nutrition/g28511617/healthiest-fruits/&amp;sa=U&amp;ved=2ahUKEwjQgcm6qdfuAhWDoFsKHY8sCEIQr4kDMAN6BAgQEAI&amp;usg=AOvVaw0kRUgjpVzZAUgw43omKJEe\"><div class=\"Tor4Ec\">  <span class=\"qXLe6d x3G5ab\">  <span class=\"fYyStc\">The 20 Healthiest Fruits...</span>  </span>   <span class=\"qXLe6d F9iS2e\">  <span class=\"fYyStc\">goodhousekeeping.com</span>  </span> </div></a></td></tr></table></div></div> </div> </div></td></tr><tr><td class=\"e3goi\" align=\"center\"><div class=\"svla5d\"> <div> <div class=\"lIMUZd\"><div><table class=\"TxbwNb\"><tr><td><a href=\"/url?q=https://www.diagnosisdiet.com/full-article/fruit&amp;sa=U&amp;ved=2ahUKEwjQgcm6qdfuAhWDoFsKHY8sCEIQqoUBMAR6BAgPEAE&amp;usg=AOvVaw01M8QzrIUdvMtPGpTXxuiI\"><div class=\"RAyV4b\"><img class=\"t0fcAb\" alt=\"\" src=\"https://encrypted-tbn0.gstatic.com/images?q=tbn:ANd9GcQE7T9x93HcU858UrGHBoW9MmDvqGo-geMbRjqC5GfHKF-uR5pC0kteyA835A&amp;s\"/></div></a></td></tr><tr><td><a href=\"/url?q=https://www.diagnosisdiet.com/full-article/fruit&amp;sa=U&amp;ved=2ahUKEwjQgcm6qdfuAhWDoFsKHY8sCEIQr4kDMAR6BAgPEAI&amp;usg=AOvVaw1Te2v4XqSyy7oFMFxfu1Oa\"><div class=\"Tor4Ec\">  <span class=\"qXLe6d x3G5ab\">  <span class=\"fYyStc\">Do We Need Fruit...</span>  </span>   <span class=\"qXLe6d F9iS2e\">  <span class=\"fYyStc\">diagnosisdiet.com</span>  </span> </div></a></td></tr></table></div></div> </div> </div></td><td class=\"e3goi\" align=\"center\"><div class=\"svla5d\"> <div> <div class=\"lIMUZd\"><div><table class=\"TxbwNb\"><tr><td><a href=\"/url?q=https://www.youtube.com/watch%3Fv%3DPY2OxP_jMZ0&amp;sa=U&amp;ved=2ahUKEwjQgcm6qdfuAhWDoFsKHY8sCEIQqoUBMAV6BAgREAE&amp;usg=AOvVaw0J6b4DjMMpiLq9qAkJVLEn\"><div class=\"RAyV4b\"><img class=\"t0fcAb\" alt=\"\" src=\"https://encrypted-tbn0.gstatic.com/images?q=tbn:ANd9GcRi9MhadfHFb12JdowMFPtJIl1jcSjpQt--fstzMTNoyn3kdfa4b5nLp3Mzug&amp;s\"/></div></a></td></tr><tr><td><a href=\"/url?q=https://www.youtube.com/watch%3Fv%3DPY2OxP_jMZ0&amp;sa=U&amp;ved=2ahUKEwjQgcm6qdfuAhWDoFsKHY8sCEIQr4kDMAV6BAgREAI&amp;usg=AOvVaw1mR8-GeGSHpOK5wleWzj8N\"><div class=\"Tor4Ec\">  <span class=\"qXLe6d x3G5ab\">  <span class=\"fYyStc\">100 Most Popular Fruits in...</span>  </span>   <span class=\"qXLe6d F9iS2e\">  <span class=\"fYyStc\">youtube.com</span>  </span> </div></a></td></tr></table></div></div> </div> </div></td><td class=\"e3goi\" align=\"center\"><div class=\"svla5d\"> <div> <div class=\"lIMUZd\"><div><table class=\"TxbwNb\"><tr><td><a href=\"/url?q=https://basket.com/blog/what-your-favorite-fruit-says-about-you/&amp;sa=U&amp;ved=2ahUKEwjQgcm6qdfuAhWDoFsKHY8sCEIQqoUBMAZ6BAgOEAE&amp;usg=AOvVaw38M_kd_dKb7_0e1Y-syTgJ\"><div class=\"RAyV4b\"><img class=\"t0fcAb\" alt=\"\" src=\"https://encrypted-tbn0.gstatic.com/images?q=tbn:ANd9GcRn9ltqc9djV2agvPnuco7aEWjUOhsJuiR3DKnhc2nhCnTJONiNitlv9vs14Z0&amp;s\"/></div></a></td></tr><tr><td><a href=\"/url?q=https://basket.com/blog/what-your-favorite-fruit-says-about-you/&amp;sa=U&amp;ved=2ahUKEwjQgcm6qdfuAhWDoFsKHY8sCEIQr4kDMAZ6BAgOEAI&amp;usg=AOvVaw1cDKmjgO2VvFcpcDPqI6LC\"><div class=\"Tor4Ec\">  <span class=\"qXLe6d x3G5ab\">  <span class=\"fYyStc\">What Your Favorite Fruit...</span>  </span>   <span class=\"qXLe6d F9iS2e\">  <span class=\"fYyStc\">basket.com</span>  </span> </div></a></td></tr></table></div></div> </div> </div></td><td class=\"e3goi\" align=\"center\"><div class=\"svla5d\"> <div> <div class=\"lIMUZd\"><div><table class=\"TxbwNb\"><tr><td><a href=\"/url?q=https://www.policygenius.com/blog/9-ways-to-save-money-on-fruits-vegetables/&amp;sa=U&amp;ved=2ahUKEwjQgcm6qdfuAhWDoFsKHY8sCEIQqoUBMAd6BAgMEAE&amp;usg=AOvVaw00HCu9GjO7dyvjezv1hO9W\"><div class=\"RAyV4b\"><img class=\"t0fcAb\" alt=\"\" src=\"https://encrypted-tbn0.gstatic.com/images?q=tbn:ANd9GcRzhlf_qzT8sYidciCN9EMbnL-oL0Mack3fplexDuzX4aYzosUfpHurm9r6oOM&amp;s\"/></div></a></td></tr><tr><td><a href=\"/url?q=https://www.policygenius.com/blog/9-ways-to-save-money-on-fruits-vegetables/&amp;sa=U&amp;ved=2ahUKEwjQgcm6qdfuAhWDoFsKHY8sCEIQr4kDMAd6BAgMEAI&amp;usg=AOvVaw2FROjx7BJH16cYyF1R-Ofb\"><div class=\"Tor4Ec\">  <span class=\"qXLe6d x3G5ab\">  <span class=\"fYyStc\">9 ways to save money on...</span>  </span>   <span class=\"qXLe6d F9iS2e\">  <span class=\"fYyStc\">policygenius.com</span>  </span> </div></a></td></tr></table></div></div> </div> </div></td></tr><tr><td class=\"e3goi\" align=\"center\"><div class=\"svla5d\"> <div> <div class=\"lIMUZd\"><div><table class=\"TxbwNb\"><tr><td><a href=\"/url?q=https://www.heart.org/en/healthy-living/healthy-eating/add-color/how-to-eat-more-fruits-and-vegetables&amp;sa=U&amp;ved=2ahUKEwjQgcm6qdfuAhWDoFsKHY8sCEIQqoUBMAh6BAgLEAE&amp;usg=AOvVaw3pEcS-LGZGiEwqO3aRgRo6\"><div class=\"RAyV4b\"><img class=\"t0fcAb\" alt=\"\" src=\"https://encrypted-tbn0.gstatic.com/images?q=tbn:ANd9GcSktuay7uv4FWvnhOO8-4R23szPyoi2kbMKbO8zoGN3LUzdBySBhUSJktrqUO0&amp;s\"/></div></a></td></tr><tr><td><a href=\"/url?q=https://www.heart.org/en/healthy-living/healthy-eating/add-color/how-to-eat-more-fruits-and-vegetables&amp;sa=U&amp;ved=2ahUKEwjQgcm6qdfuAhWDoFsKHY8sCEIQr4kDMAh6BAgLEAI&amp;usg=AOvVaw1j7tpxO0LUlVzqUboMUJJg\"><div class=\"Tor4Ec\">  <span class=\"qXLe6d x3G5ab\">  <span class=\"fYyStc\">How to Eat More Fruit and...</span>  </span>   <span class=\"qXLe6d F9iS2e\">  <span class=\"fYyStc\">heart.org</span>  </span> </div></a></td></tr></table></div></div> </div> </div></td><td class=\"e3goi\" align=\"center\"><div class=\"svla5d\"> <div> <div class=\"lIMUZd\"><div><table class=\"TxbwNb\"><tr><td><a href=\"/url?q=https://www.diabetes.co.uk/food/fruit.html&amp;sa=U&amp;ved=2ahUKEwjQgcm6qdfuAhWDoFsKHY8sCEIQqoUBMAl6BAgNEAE&amp;usg=AOvVaw3F0DwCtj_r_3VZYh0QZ1-3\"><div class=\"RAyV4b\"><img class=\"t0fcAb\" alt=\"\" src=\"https://encrypted-tbn0.gstatic.com/images?q=tbn:ANd9GcRgmWfcGZ8MaatSc-7OPMlLqvCnuJXTpcBanoxOyBY3tHU2GFn5zIe3Pr1RDws&amp;s\"/></div></a></td></tr><tr><td><a href=\"/url?q=https://www.diabetes.co.uk/food/fruit.html&amp;sa=U&amp;ved=2ahUKEwjQgcm6qdfuAhWDoFsKHY8sCEIQr4kDMAl6BAgNEAI&amp;usg=AOvVaw0Vu2g-mIqPWnxJSWTtiz2A\"><div class=\"Tor4Ec\">  <span class=\"qXLe6d x3G5ab\">  <span class=\"fYyStc\">Fruit and Diabetes - Can...</span>  </span>   <span class=\"qXLe6d F9iS2e\">  <span class=\"fYyStc\">diabetes.co.uk</span>  </span> </div></a></td></tr></table></div></div> </div> </div></td><td class=\"e3goi\" align=\"center\"><div class=\"svla5d\"> <div> <div class=\"lIMUZd\"><div><table class=\"TxbwNb\"><tr><td><a href=\"/url?q=https://www.amazon.com/Fruits-Dreamland-Publications/dp/8184510594&amp;sa=U&amp;ved=2ahUKEwjQgcm6qdfuAhWDoFsKHY8sCEIQqoUBMAp6BAgHEAE&amp;usg=AOvVaw2u7Hr0wiEbf3dX3Un6Ko3Y\"><div class=\"RAyV4b\"><img class=\"t0fcAb\" alt=\"\" src=\"https://encrypted-tbn0.gstatic.com/images?q=tbn:ANd9GcTZHIFXuE7BzskemzHmNPU3cXoigwce2xcv8KYcWwK2yL5AHabTPMdQAfz9Lw&amp;s\"/></div></a></td></tr><tr><td><a href=\"/url?q=https://www.amazon.com/Fruits-Dreamland-Publications/dp/8184510594&amp;sa=U&amp;ved=2ahUKEwjQgcm6qdfuAhWDoFsKHY8sCEIQr4kDMAp6BAgHEAI&amp;usg=AOvVaw0u6AHr2hktb4uNQaw2vSro\"><div class=\"Tor4Ec\">  <span class=\"qXLe6d x3G5ab\">  <span class=\"fYyStc\">Fruits [Poster] [Jan 25,...</span>  </span>   <span class=\"qXLe6d F9iS2e\">  <span class=\"fYyStc\">amazon.com</span>  </span> </div></a></td></tr></table></div></div> </div> </div></td><td class=\"e3goi\" align=\"center\"><div class=\"svla5d\"> <div> <div class=\"lIMUZd\"><div><table class=\"TxbwNb\"><tr><td><a href=\"/url?q=https://m.youtube.com/watch%3Fv%3DS0S1M9bKlYk&amp;sa=U&amp;ved=2ahUKEwjQgcm6qdfuAhWDoFsKHY8sCEIQqoUBMAt6BAgIEAE&amp;usg=AOvVaw1UGQkaswEn-PVdIuesJgl9\"><div class=\"RAyV4b\"><img class=\"t0fcAb\" alt=\"\" src=\"https://encrypted-tbn0.gstatic.com/images?q=tbn:ANd9GcSXfuhziu9s6vddEqGohAG5x_0Lc9hWk2ZzAObKE7AraaR4br8eqvet67fjilQ&amp;s\"/></div></a></td></tr><tr><td><a href=\"/url?q=https://m.youtube.com/watch%3Fv%3DS0S1M9bKlYk&amp;sa=U&amp;ved=2ahUKEwjQgcm6qdfuAhWDoFsKHY8sCEIQr4kDMAt6BAgIEAI&amp;usg=AOvVaw36kjbegiBc-7dqpJEXyQxn\"><div class=\"Tor4Ec\">  <span class=\"qXLe6d x3G5ab\">  <span class=\"fYyStc\">Fruits Vocabulary - YouTube...</span>  </span>   <span class=\"qXLe6d F9iS2e\">  <span class=\"fYyStc\">m.youtube.com</span>  </span> </div></a></td></tr></table></div></div> </div> </div></td></tr><tr><td class=\"e3goi\" align=\"center\"><div class=\"svla5d\"> <div> <div class=\"lIMUZd\"><div><table class=\"TxbwNb\"><tr><td><a href=\"/url?q=https://www.pinterest.com/pin/641340803167435998/&amp;sa=U&amp;ved=2ahUKEwjQgcm6qdfuAhWDoFsKHY8sCEIQqoUBMAx6BAgKEAE&amp;usg=AOvVaw3KA8HgN-AwEqvADU3U39t9\"><div class=\"RAyV4b\"><img class=\"t0fcAb\" alt=\"\" src=\"https://encrypted-tbn0.gstatic.com/images?q=tbn:ANd9GcTe0v2g_QGYXqYRupDq4lrjYs6KYWi3krBEAtOk9jkoQaP0UT0gRMdQKQ_F6AM&amp;s\"/></div></a></td></tr><tr><td><a href=\"/url?q=https://www.pinterest.com/pin/641340803167435998/&amp;sa=U&amp;ved=2ahUKEwjQgcm6qdfuAhWDoFsKHY8sCEIQr4kDMAx6BAgKEAI&amp;usg=AOvVaw0Qzw_KzWH4uDFqM9vZwVQt\"><div class=\"Tor4Ec\">  <span class=\"qXLe6d x3G5ab\">  <span class=\"fYyStc\">List of Fruits: List of 40+...</span>  </span>   <span class=\"qXLe6d F9iS2e\">  <span class=\"fYyStc\">pinterest.com</span>  </span> </div></a></td></tr></table></div></div> </div> </div></td><td class=\"e3goi\" align=\"center\"><div class=\"svla5d\"> <div> <div class=\"lIMUZd\"><div><table class=\"TxbwNb\"><tr><td><a href=\"/url?q=https://www.unlockfood.ca/en/Articles/Cooking-Food-Preparation/How-to-store-fruit-to-keep-them-fresh.aspx&amp;sa=U&amp;ved=2ahUKEwjQgcm6qdfuAhWDoFsKHY8sCEIQqoUBMA16BAgJEAE&amp;usg=AOvVaw0DkI6NImgALALxXzWcYG8E\"><div class=\"RAyV4b\"><img class=\"t0fcAb\" alt=\"\" src=\"https://encrypted-tbn0.gstatic.com/images?q=tbn:ANd9GcQYd-VnyfvVyWHUIiytGUYyEZZ48GRHBsoIwgZzQKpM9Bo9eDffmpYF55pZPCE&amp;s\"/></div></a></td></tr><tr><td><a href=\"/url?q=https://www.unlockfood.ca/en/Articles/Cooking-Food-Preparation/How-to-store-fruit-to-keep-them-fresh.aspx&amp;sa=U&amp;ved=2ahUKEwjQgcm6qdfuAhWDoFsKHY8sCEIQr4kDMA16BAgJEAI&amp;usg=AOvVaw1WNLirueWh1uCRjTLjTiBU\"><div class=\"Tor4Ec\">  <span class=\"qXLe6d x3G5ab\">  <span class=\"fYyStc\">How to Store Fruit to Keep...</span>  </span>   <span class=\"qXLe6d F9iS2e\">  <span class=\"fYyStc\">unlockfood.ca</span>  </span> </div></a></td></tr></table></div></div> </div> </div></td><td class=\"e3goi\" align=\"center\"><div class=\"svla5d\"> <div> <div class=\"lIMUZd\"><div><table class=\"TxbwNb\"><tr><td><a href=\"/url?q=https://thethirty.whowhatwear.com/fruits-that-are-high-in-sugar&amp;sa=U&amp;ved=2ahUKEwjQgcm6qdfuAhWDoFsKHY8sCEIQqoUBMA56BAgGEAE&amp;usg=AOvVaw0j0kEHlXPWAN6YgwXv2eqN\"><div class=\"RAyV4b\"><img class=\"t0fcAb\" alt=\"\" src=\"https://encrypted-tbn0.gstatic.com/images?q=tbn:ANd9GcRQL0Sx_rkzXrWbdmfNI_d4M9Tyl4upRQvQpAPJ2_cd6T4F57SV1t50CXX9&amp;s\"/></div></a></td></tr><tr><td><a href=\"/url?q=https://thethirty.whowhatwear.com/fruits-that-are-high-in-sugar&amp;sa=U&amp;ved=2ahUKEwjQgcm6qdfuAhWDoFsKHY8sCEIQr4kDMA56BAgGEAI&amp;usg=AOvVaw1Cvu2YyL_v43DLInmJ77j8\"><div class=\"Tor4Ec\">  <span class=\"qXLe6d x3G5ab\">  <span class=\"fYyStc\">These 15 Fruits Are the...</span>  </span>   <span class=\"qXLe6d F9iS2e\">  <span class=\"fYyStc\">thethirty.whowhatwear.com</span>  </span> </div></a></td></tr></table></div></div> </div> </div></td><td class=\"e3goi\" align=\"center\"><div class=\"svla5d\"> <div> <div class=\"lIMUZd\"><div><table class=\"TxbwNb\"><tr><td><a href=\"/url?q=https://theconversation.com/how-to-get-children-to-eat-a-rainbow-of-fruit-and-vegetables-97546&amp;sa=U&amp;ved=2ahUKEwjQgcm6qdfuAhWDoFsKHY8sCEIQqoUBMA96BAgDEAE&amp;usg=AOvVaw1_BowJBtIlmAEaQDsqGYPV\"><div class=\"RAyV4b\"><img class=\"t0fcAb\" alt=\"\" src=\"https://encrypted-tbn0.gstatic.com/images?q=tbn:ANd9GcTkhgB3EWyUa8WVhyMVfgVpxFMPync0kaaA6tgGYPO-BWQNTl-u1z6wSL-EOH0&amp;s\"/></div></a></td></tr><tr><td><a href=\"/url?q=https://theconversation.com/how-to-get-children-to-eat-a-rainbow-of-fruit-and-vegetables-97546&amp;sa=U&amp;ved=2ahUKEwjQgcm6qdfuAhWDoFsKHY8sCEIQr4kDMA96BAgDEAI&amp;usg=AOvVaw0UUhsU1oqj8V_MXON8II0M\"><div class=\"Tor4Ec\">  <span class=\"qXLe6d x3G5ab\">  <span class=\"fYyStc\">How to get children to eat...</span>  </span>   <span class=\"qXLe6d F9iS2e\">  <span class=\"fYyStc\">theconversation.com</span>  </span> </div></a></td></tr></table></div></div> </div> </div></td></tr><tr><td class=\"e3goi\" align=\"center\"><div class=\"svla5d\"> <div> <div class=\"lIMUZd\"><div><table class=\"TxbwNb\"><tr><td><a href=\"/url?q=https://www.foodsafetynews.com/2020/07/imported-fruit-and-veg-main-problem-in-singaporean-sampling/&amp;sa=U&amp;ved=2ahUKEwjQgcm6qdfuAhWDoFsKHY8sCEIQqoUBMBB6BAgCEAE&amp;usg=AOvVaw0YfLSjtaRfSZgi9EaP7wfz\"><div class=\"RAyV4b\"><img class=\"t0fcAb\" alt=\"\" src=\"https://encrypted-tbn0.gstatic.com/images?q=tbn:ANd9GcSUzs3ITjP35XAK9WZkTFPO8kgG8PyjUWGuiUK_ksUOvomniC-0rpcjLsbOgw&amp;s\"/></div></a></td></tr><tr><td><a href=\"/url?q=https://www.foodsafetynews.com/2020/07/imported-fruit-and-veg-main-problem-in-singaporean-sampling/&amp;sa=U&amp;ved=2ahUKEwjQgcm6qdfuAhWDoFsKHY8sCEIQr4kDMBB6BAgCEAI&amp;usg=AOvVaw0CHf72JTXCIfnn5DtEMpe_\"><div class=\"Tor4Ec\">  <span class=\"qXLe6d x3G5ab\">  <span class=\"fYyStc\">Imported fruit and veg main...</span>  </span>   <span class=\"qXLe6d F9iS2e\">  <span class=\"fYyStc\">foodsafetynews.com</span>  </span> </div></a></td></tr></table></div></div> </div> </div></td><td class=\"e3goi\" align=\"center\"><div class=\"svla5d\"> <div> <div class=\"lIMUZd\"><div><table class=\"TxbwNb\"><tr><td><a href=\"/url?q=https://www.everydayhealth.com/diet-nutrition-pictures/the-healthiest-power-fruits-next-door.aspx&amp;sa=U&amp;ved=2ahUKEwjQgcm6qdfuAhWDoFsKHY8sCEIQqoUBMBF6BAgFEAE&amp;usg=AOvVaw2yJ_5BGy3H9O3mwJ2FL84s\"><div class=\"RAyV4b\"><img class=\"t0fcAb\" alt=\"\" src=\"https://encrypted-tbn0.gstatic.com/images?q=tbn:ANd9GcT5zkjQMFoVus5fpDNclpoRlDj0QYa8Q7DqTvRjHblkEqKJLx6qf2Zy8AoO6g&amp;s\"/></div></a></td></tr><tr><td><a href=\"/url?q=https://www.everydayhealth.com/diet-nutrition-pictures/the-healthiest-power-fruits-next-door.aspx&amp;sa=U&amp;ved=2ahUKEwjQgcm6qdfuAhWDoFsKHY8sCEIQr4kDMBF6BAgFEAI&amp;usg=AOvVaw2jLylAIx75LyAGuEcrxaZg\"><div class=\"Tor4Ec\">  <span class=\"qXLe6d x3G5ab\">  <span class=\"fYyStc\">10 Boring Fruits With...</span>  </span>   <span class=\"qXLe6d F9iS2e\">  <span class=\"fYyStc\">everydayhealth.com</span>  </span> </div></a></td></tr></table></div></div> </div> </div></td><td class=\"e3goi\" align=\"center\"><div class=\"svla5d\"> <div> <div class=\"lIMUZd\"><div><table class=\"TxbwNb\"><tr><td><a href=\"/url?q=https://timesofindia.indiatimes.com/life-style/food-news/interesting-fruits-from-around-the-world/photostory/76992335.cms&amp;sa=U&amp;ved=2ahUKEwjQgcm6qdfuAhWDoFsKHY8sCEIQqoUBMBJ6BAgBEAE&amp;usg=AOvVaw3Yq7edWxYaYzQjepr0hf-L\"><div class=\"RAyV4b\"><img class=\"t0fcAb\" alt=\"\" src=\"https://encrypted-tbn0.gstatic.com/images?q=tbn:ANd9GcRV3rEK8J6clE6rC7gwFNwQh1BNWHDxFRP520zL8GF7SS8t5mRTfe1rGVyLvw&amp;s\"/></div></a></td></tr><tr><td><a href=\"/url?q=https://timesofindia.indiatimes.com/life-style/food-news/interesting-fruits-from-around-the-world/photostory/76992335.cms&amp;sa=U&amp;ved=2ahUKEwjQgcm6qdfuAhWDoFsKHY8sCEIQr4kDMBJ6BAgBEAI&amp;usg=AOvVaw14VZI9On3JQ_s7BclZ4vp9\"><div class=\"Tor4Ec\">  <span class=\"qXLe6d x3G5ab\">  <span class=\"fYyStc\">Unique Fruits: Interesting...</span>  </span>   <span class=\"qXLe6d F9iS2e\">  <span class=\"fYyStc\">timesofindia.indiatimes.com...</span>  </span> </div></a></td></tr></table></div></div> </div> </div></td><td class=\"e3goi\" align=\"center\"><div class=\"svla5d\"> <div> <div class=\"lIMUZd\"><div><table class=\"TxbwNb\"><tr><td><a href=\"/url?q=https://time.com/5234787/dirty-dozen-pesticides/&amp;sa=U&amp;ved=2ahUKEwjQgcm6qdfuAhWDoFsKHY8sCEIQqoUBMBN6BAgEEAE&amp;usg=AOvVaw1qnANXDxRadpqkXCwNPpBM\"><div class=\"RAyV4b\"><img class=\"t0fcAb\" alt=\"\" src=\"https://encrypted-tbn0.gstatic.com/images?q=tbn:ANd9GcTtzJOpuyyohTDbOX9H_iropKgHMXbc83SMdr1Mg6WUiaVJ9glm5PLhZD6f7Hc&amp;s\"/></div></a></td></tr><tr><td><a href=\"/url?q=https://time.com/5234787/dirty-dozen-pesticides/&amp;sa=U&amp;ved=2ahUKEwjQgcm6qdfuAhWDoFsKHY8sCEIQr4kDMBN6BAgEEAI&amp;usg=AOvVaw37a9Xm3_9tnl9Fe4ZvAlEh\"><div class=\"Tor4Ec\">  <span class=\"qXLe6d x3G5ab\">  <span class=\"fYyStc\">These 12 Fruits and...</span>  </span>   <span class=\"qXLe6d F9iS2e\">  <span class=\"fYyStc\">time.com</span>  </span> </div></a></td></tr></table></div></div> </div> </div></td></tr></table></div><table class=\"uZgmoc\"><tbody><td><a class=\"frGj1b\" href=\"/search?q=fruits&amp;hl=en&amp;authuser=0&amp;biw=811&amp;bih=657&amp;ie=UTF-8&amp;tbm=isch&amp;ei=iKAfYNCdPIPB7gKP2aCQBA&amp;start=20&amp;sa=N\">Next&nbsp;&gt;</a></td></tbody></table><br/><div class=\"TuS8Ad\" data-ved=\"0ahUKEwjQgcm6qdfuAhWDoFsKHY8sCEIQpyoIUg\"><style>.VYM29{font-weight:bold}</style><div class=\"HddGcc\" align=\"center\"><span class=\"VYM29\">Boardman, Oregon</span><span>&nbsp;-&nbsp;</span><span>From your Internet address</span><span>&nbsp;-&nbsp;</span><a href=\"/url?q=https://support.google.com/websearch%3Fp%3Dws_settings_location%26hl%3Den&amp;sa=U&amp;ved=0ahUKEwjQgcm6qdfuAhWDoFsKHY8sCEIQty4IUw&amp;usg=AOvVaw3N4_yf5kvHsZn55dGlsGhz\">Learn more</a></div><div align=\"center\"><a class=\"rEM8G\" href=\"/url?q=https://accounts.google.com/ServiceLogin%3Fcontinue%3Dhttps://www.google.co.in/search%253Fhl%253Den%2526authuser%253D0%2526tbm%253Disch%2526sxsrf%253DALeKk02uv-UXNSzZu3S6YdhOmH2dq61yYw:1612506521763%2526source%253Dhp%2526biw%253D811%2526bih%253D657%2526ei%253DmeUcYOirK--U4-EPr_uw-Ac%2526q%253Dfruits%2526oq%253D%2526gs_lcp%253DCgNpbWcQARgAMgcIIxDqAhAnMgcIIxDqAhAnMgcIIxDqAhAnMgcIIxDqAhAnMgcIIxDqAhAnMgcIIxDqAhAnMgcIIxDqAhAnMgcIIxDqAhAnMgcIIxDqAhAnMgcIIxDqAhAnUABYAGDFMWgBcAB4AIABAIgBAJIBAJgBAKoBC2d3cy13aXotaW1nsAEK%2526sclient%253Dimg%26hl%3Den&amp;sa=U&amp;ved=0ahUKEwjQgcm6qdfuAhWDoFsKHY8sCEIQxs8CCFQ&amp;usg=AOvVaw1rJcRq1RU67j1Fh98uWfdU\">Sign in</a></div><div><table class=\"bookcf\"><tbody class=\"InWNIe\"><tr><td><a class=\"rEM8G\" href=\"https://www.google.co.in/preferences?hl=en&amp;authuser=0&amp;sa=X&amp;ved=0ahUKEwjQgcm6qdfuAhWDoFsKHY8sCEIQv5YECFU\">Settings</a></td><td><a class=\"rEM8G\" href=\"https://www.google.co.in/intl/en_us/policies/privacy/\">Privacy</a></td><td><a class=\"rEM8G\" href=\"https://www.google.co.in/intl/en_us/policies/terms/\">Terms</a></td></tr></tbody></table></div></div><div>  </div></body></html>'"
      ]
     },
     "execution_count": 79,
     "metadata": {},
     "output_type": "execute_result"
    }
   ],
   "source": [
    "page.content"
   ]
  },
  {
   "cell_type": "code",
   "execution_count": 80,
   "metadata": {},
   "outputs": [],
   "source": [
    "soup=BeautifulSoup(page.content, \"html.parser\")"
   ]
  },
  {
   "cell_type": "code",
   "execution_count": 82,
   "metadata": {},
   "outputs": [
    {
     "data": {
      "text/plain": [
       "[]"
      ]
     },
     "execution_count": 82,
     "metadata": {},
     "output_type": "execute_result"
    }
   ],
   "source": [
    "images=soup.find_all(\"a\", {\"class\": \"wXeWr islib nfEiy mM5pbd\"})\n",
    "images"
   ]
  },
  {
   "cell_type": "code",
   "execution_count": null,
   "metadata": {},
   "outputs": [],
   "source": []
  }
 ],
 "metadata": {
  "kernelspec": {
   "display_name": "Python 3",
   "language": "python",
   "name": "python3"
  },
  "language_info": {
   "codemirror_mode": {
    "name": "ipython",
    "version": 3
   },
   "file_extension": ".py",
   "mimetype": "text/x-python",
   "name": "python",
   "nbconvert_exporter": "python",
   "pygments_lexer": "ipython3",
   "version": "3.7.6"
  }
 },
 "nbformat": 4,
 "nbformat_minor": 4
}
